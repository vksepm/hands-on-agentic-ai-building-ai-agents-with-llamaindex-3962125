{
  "cells": [
    {
      "cell_type": "markdown",
      "metadata": {
        "id": "view-in-github",
        "colab_type": "text"
      },
      "source": [
        "<a href=\"https://colab.research.google.com/github/vksepm/hands-on-agentic-ai-building-ai-agents-with-llamaindex-3962125/blob/main/code_06_XX%20Multi-agent%20Hospital%20application.ipynb\" target=\"_parent\"><img src=\"https://colab.research.google.com/assets/colab-badge.svg\" alt=\"Open In Colab\"/></a>"
      ]
    },
    {
      "cell_type": "markdown",
      "id": "8e525ecd-110e-415a-93b7-4423e8fe6111",
      "metadata": {
        "id": "8e525ecd-110e-415a-93b7-4423e8fe6111"
      },
      "source": [
        "### 06.03. Import agents into application"
      ]
    },
    {
      "cell_type": "code",
      "execution_count": null,
      "id": "96932448-bca3-43ed-a954-20e74cf37b80",
      "metadata": {
        "id": "96932448-bca3-43ed-a954-20e74cf37b80",
        "outputId": "6f1ecccf-f771-452d-a225-6575605a8ab8"
      },
      "outputs": [
        {
          "name": "stdout",
          "output_type": "stream",
          "text": [
            "--------\n",
            " search_data \n",
            "        Use this tool to load data from the following function. It must then be read from\n",
            "        the corresponding read_search_data function.\n",
            "\n",
            "        search_data(query: str, lang: str = 'en') -> str\n",
            "\n",
            "        Search Wikipedia for a page related to the given query.\n",
            "        Use this tool when `load_data` returns no results.\n",
            "\n",
            "        Args:\n",
            "            query (str): the string to search for\n",
            "        \n",
            "    \n",
            "--------\n",
            " read_search_data \n",
            "        Once data has been loaded from search_data it can then be read using a natural\n",
            "        language query from this function.\n",
            "\n",
            "        You are required to pass the natural language query argument when calling this endpoint\n",
            "\n",
            "        Args:\n",
            "            query (str): The natural language query used to retreieve information from the index\n",
            "    \n",
            "> Running step 9c7fbd9e-db58-4ed8-9a0c-da8b8f9aab14. Step input: Which medication should i take for arthritis?\n",
            "\u001b[1;3;38;5;200mThought: The current language of the user is: English. I need to use a tool to help me answer the question.\n",
            "Action: query_engine_tool\n",
            "Action Input: {'input': 'medication for arthritis'}\n",
            "\u001b[0m\u001b[1;3;34mObservation: Naproxen is used for pain and inflammation, which can be associated with arthritis.\n",
            "\u001b[0m> Running step c94af6f4-4a2a-40d1-8ba5-81f6eb251fc7. Step input: None\n",
            "\u001b[1;3;38;5;200mThought: I can answer without using any more tools. I'll use the user's language to answer.\n",
            "Answer: Naproxen is a medication commonly used for pain and inflammation associated with arthritis. However, it's important to consult with a healthcare professional before starting any medication to ensure it's appropriate for your specific condition.\n",
            "\u001b[0m*******\n",
            " Response :  Naproxen is a medication commonly used for pain and inflammation associated with arthritis. However, it's important to consult with a healthcare professional before starting any medication to ensure it's appropriate for your specific condition.\n",
            "===============================================================\n",
            "Running step new_user_msg\n",
            "Step new_user_msg produced event PrepEvent\n",
            "Running step prepare_chat_history\n",
            "Step prepare_chat_history produced event InputEvent\n",
            "Running step handle_llm_input\n",
            "*** LLM Returned :  thought='The current language of the user is English. I need to use a tool to help me answer the question.' action='query_engine_tool' action_input={'input': 'list of doctors who are cardiologists'}\n",
            "Step handle_llm_input produced event ToolCallEvent\n",
            "Running step handle_tool_calls\n",
            "*** Calling tools :  [ToolSelection(tool_id='fake', tool_name='query_engine_tool', tool_kwargs={'input': 'list of doctors who are cardiologists'})]\n",
            "Step handle_tool_calls produced event PrepEvent\n",
            "Running step prepare_chat_history\n",
            "Step prepare_chat_history produced event InputEvent\n",
            "Running step handle_llm_input\n",
            "*** LLM Returned :  thought='I cannot answer the question with the provided tools.' response='There are no cardiologists listed among the doctors in the available information.' is_streaming=False\n",
            "Step handle_llm_input produced event StopEvent\n",
            "*******\n",
            " Response :  There are no cardiologists listed among the doctors in the available information.\n",
            "Running step new_user_msg\n",
            "Step new_user_msg produced event PrepEvent\n",
            "Running step prepare_chat_history\n",
            "Step prepare_chat_history produced event InputEvent\n",
            "Running step handle_llm_input\n",
            "*** LLM Returned :  thought='The current language of the user is English. I need to use a tool to help me schedule the appointment.' action='schedule_appointment' action_input={'patient_name': 'Ben Jones', 'doctor_name': 'John Smith', 'scheduling_comments': 'Next week in the afternoons'}\n",
            "Step handle_llm_input produced event ToolCallEvent\n",
            "Running step handle_tool_calls\n",
            "*** Calling tools :  [ToolSelection(tool_id='fake', tool_name='schedule_appointment', tool_kwargs={'patient_name': 'Ben Jones', 'doctor_name': 'John Smith', 'scheduling_comments': 'Next week in the afternoons'})]\n",
            "Step handle_tool_calls produced event PrepEvent\n",
            "Running step prepare_chat_history\n",
            "Step prepare_chat_history produced event InputEvent\n",
            "Running step handle_llm_input\n",
            "*** LLM Returned :  thought=\"I can answer without using any more tools. I'll use the user's language to answer.\" response='The appointment with Dr. John Smith for Ben Jones has been successfully scheduled for next week in the afternoons.' is_streaming=False\n",
            "Step handle_llm_input produced event StopEvent\n",
            "*******\n",
            " Response :  The appointment with Dr. John Smith for Ben Jones has been successfully scheduled for next week in the afternoons.\n",
            "Running step new_user_msg\n",
            "Step new_user_msg produced event PrepEvent\n",
            "Running step prepare_chat_history\n",
            "Step prepare_chat_history produced event InputEvent\n",
            "Running step handle_llm_input\n",
            "*** LLM Returned :  thought='The current language of the user is English. I need to use a tool to help me find a neurologist.' action='query_engine_tool' action_input={'input': 'neurologist'}\n",
            "Step handle_llm_input produced event ToolCallEvent\n",
            "Running step handle_tool_calls\n",
            "*** Calling tools :  [ToolSelection(tool_id='fake', tool_name='query_engine_tool', tool_kwargs={'input': 'neurologist'})]\n",
            "Step handle_tool_calls produced event PrepEvent\n",
            "Running step prepare_chat_history\n",
            "Step prepare_chat_history produced event InputEvent\n",
            "Running step handle_llm_input\n",
            "*** LLM Returned :  thought='I have found a neurologist, Dr. Michael Brown. I will now proceed to schedule an appointment for Beth Wilson.' action='schedule_appointment' action_input={'patient_name': 'Beth Wilson', 'doctor_name': 'Dr. Michael Brown', 'scheduling_comments': 'Requesting an appointment at the earliest convenience.'}\n",
            "Step handle_llm_input produced event ToolCallEvent\n",
            "Running step handle_tool_calls\n",
            "*** Calling tools :  [ToolSelection(tool_id='fake', tool_name='schedule_appointment', tool_kwargs={'patient_name': 'Beth Wilson', 'doctor_name': 'Dr. Michael Brown', 'scheduling_comments': 'Requesting an appointment at the earliest convenience.'})]\n",
            "Step handle_tool_calls produced event PrepEvent\n",
            "Running step prepare_chat_history\n",
            "Step prepare_chat_history produced event InputEvent\n",
            "Running step handle_llm_input\n",
            "*** LLM Returned :  thought=\"I can answer without using any more tools. I'll use the user's language to answer.\" response='The appointment for Beth Wilson with Dr. Michael Brown has been successfully scheduled at the earliest convenience.' is_streaming=False\n",
            "Step handle_llm_input produced event StopEvent\n",
            "*******\n",
            " Response :  The appointment for Beth Wilson with Dr. Michael Brown has been successfully scheduled at the earliest convenience.\n"
          ]
        }
      ],
      "source": [
        "#Reuse the agents created in the previous chapters by importing their notebooks\n",
        "#Ignore / hide the code output and use only the agents\n",
        "\n",
        "#import the Healthcare assistant agent\n",
        "%run \"code_02_XX A Healthcare assistant agent with ReAct.ipynb\"\n",
        "print(\"===============================================================\")\n",
        "#import the appointment scheduling agent\n",
        "%run \"code_05_XX ReAct agent with Workflows - Doctor scheduling.ipynb\""
      ]
    },
    {
      "cell_type": "markdown",
      "id": "ed514e6b-af2d-4e72-8885-f1df839c0ef8",
      "metadata": {
        "id": "ed514e6b-af2d-4e72-8885-f1df839c0ef8"
      },
      "source": [
        "### 06.04 Setup the multi-agent application"
      ]
    },
    {
      "cell_type": "code",
      "execution_count": null,
      "id": "5423424a-9596-4112-a5fb-97a6f1940005",
      "metadata": {
        "id": "5423424a-9596-4112-a5fb-97a6f1940005"
      },
      "outputs": [],
      "source": [
        "from llama_index.core.tools import QueryEngineTool, ToolMetadata\n",
        "from llama_index.core.tools import FunctionTool\n",
        "import asyncio\n",
        "\n",
        "#Sync agent - use as query agent directly\n",
        "healthcare_agent_tool = QueryEngineTool(\n",
        "    query_engine= healthcare_agent,\n",
        "    metadata=ToolMetadata(\n",
        "        name=\"Healthcare_Agent\",\n",
        "        description=\"\"\"\n",
        "            An agent that can answer questions about diseases,\n",
        "            symptoms for the diseases and the medications to cure them\n",
        "            \"\"\"\n",
        "    )\n",
        ")\n",
        "\n",
        "#Async agent - use an async function to call\n",
        "async def async_doctors_and_appointments(query: str) -> str:\n",
        "    response = await scheduling_agent.run(input=query)\n",
        "    return response.get(\"response\")\n",
        "\n",
        "#Use a sync wrapper over the async function\n",
        "def doctors_and_appointments(query: str) -> str :\n",
        "    \"\"\"\n",
        "    An agent that find doctors for specific diseases & specialities\n",
        "    and then schedule appointments for these doctors.\n",
        "\n",
        "    Inputs:\n",
        "    query: This is the original query from the user\n",
        "    \"\"\"\n",
        "    response=asyncio.run(async_doctors_and_appointments(query))\n",
        "    return response\n",
        "\n",
        "appointment_scheduling_tool = FunctionTool.from_defaults(doctors_and_appointments)\n",
        "\n",
        "#Create a system prompt\n",
        "context = \"\"\"\n",
        "You are the master agent for a hospital self-service application.\n",
        "You handle user requests about medications and doctors.\n",
        "\n",
        "Use only the tools provided to handle the requests and\n",
        "NOT your own memory.\n",
        "\"\"\"\n",
        "#Create a Multi-agent\n",
        "multi_agent = ReActAgent.from_tools(\n",
        "                [healthcare_agent_tool, appointment_scheduling_tool],\n",
        "                llm=Settings.llm,\n",
        "                context=context,\n",
        "                verbose=True #Set verbose for detailed logs\n",
        "                )\n"
      ]
    },
    {
      "cell_type": "markdown",
      "id": "c7d0c6f5-32c1-4616-a8b4-f1dd18ba7b58",
      "metadata": {
        "id": "c7d0c6f5-32c1-4616-a8b4-f1dd18ba7b58"
      },
      "source": [
        "### 06.05. Execute the multi-agent application"
      ]
    },
    {
      "cell_type": "code",
      "execution_count": null,
      "id": "74277be0-db5d-4cdd-a1e9-1d98f8779886",
      "metadata": {
        "id": "74277be0-db5d-4cdd-a1e9-1d98f8779886",
        "outputId": "394128ab-9518-44eb-b05f-329b9bce3e0b"
      },
      "outputs": [
        {
          "name": "stdout",
          "output_type": "stream",
          "text": [
            "> Running step 1cf9f7ef-61e7-457f-a325-5f8c99ef537d. Step input: Which medication should i take for arthritis?\n",
            "\u001b[1;3;38;5;200mThought: The current language of the user is English. I need to use a tool to help me answer the question.\n",
            "Action: Healthcare_Agent\n",
            "Action Input: {'input': 'medication for arthritis'}\n",
            "\u001b[0m> Running step eea244f5-05bb-418f-9c3a-d7b0271a076d. Step input: medication for arthritis\n",
            "\u001b[1;3;38;5;200mThought: The current language of the user is English. I need to use a tool to help me answer the question about medications for arthritis.\n",
            "Action: query_engine_tool\n",
            "Action Input: {'input': 'medication for arthritis'}\n",
            "\u001b[0m\u001b[1;3;34mObservation: Naproxen is used for pain and inflammation, which can be associated with arthritis.\n",
            "\u001b[0m> Running step 1081ee60-a992-4706-89d5-0ace5b53c5c6. Step input: None\n",
            "\u001b[1;3;38;5;200mThought: I can answer without using any more tools. I'll use the user's language to answer.\n",
            "Answer: Naproxen is a medication used for pain and inflammation, which can be associated with arthritis.\n",
            "\u001b[0m\u001b[1;3;34mObservation: Naproxen is a medication used for pain and inflammation, which can be associated with arthritis.\n",
            "\u001b[0m> Running step 78b17c56-6335-45d9-ab17-8cba493885ee. Step input: None\n",
            "\u001b[1;3;38;5;200mThought: I can answer without using any more tools. I'll use the user's language to answer.\n",
            "Answer: Naproxen is a medication used for pain and inflammation, which can be associated with arthritis.\n",
            "\u001b[0m*******\n",
            " Response :  Naproxen is a medication used for pain and inflammation, which can be associated with arthritis.\n"
          ]
        }
      ],
      "source": [
        "response=multi_agent.chat(\"Which medication should i take for arthritis?\")\n",
        "print(\"*******\\n Response : \",response.response)"
      ]
    },
    {
      "cell_type": "code",
      "execution_count": null,
      "id": "46af4f68-2293-4f82-a190-526e4dd367ab",
      "metadata": {
        "scrolled": true,
        "id": "46af4f68-2293-4f82-a190-526e4dd367ab",
        "outputId": "7437c28b-2206-45cd-af57-fc686eb5ca3d"
      },
      "outputs": [
        {
          "name": "stdout",
          "output_type": "stream",
          "text": [
            "> Running step 2ca80bec-5848-43d9-9cae-428c755427ee. Step input: Which doctors are cardiologists?\n",
            "\u001b[1;3;38;5;200mThought: The current language of the user is English. I need to use a tool to help me answer the question.\n",
            "Action: doctors_and_appointments\n",
            "Action Input: {'query': 'cardiologists'}\n",
            "\u001b[0mRunning step new_user_msg\n",
            "Step new_user_msg produced event PrepEvent\n",
            "Running step prepare_chat_history\n",
            "Step prepare_chat_history produced event InputEvent\n",
            "Running step handle_llm_input\n",
            "*** LLM Returned :  thought='The current language of the user is English. I need to use a tool to help me answer the question.' action='query_engine_tool' action_input={'input': 'cardiologists'}\n",
            "Step handle_llm_input produced event ToolCallEvent\n",
            "Running step handle_tool_calls\n",
            "*** Calling tools :  [ToolSelection(tool_id='fake', tool_name='query_engine_tool', tool_kwargs={'input': 'cardiologists'})]\n",
            "Step handle_tool_calls produced event PrepEvent\n",
            "Running step prepare_chat_history\n",
            "Step prepare_chat_history produced event InputEvent\n",
            "Running step handle_llm_input\n",
            "*** LLM Returned :  thought=\"I can answer without using any more tools. I'll use the user's language to answer.\" response='Dr. John Smith is a cardiologist with 15 years of experience.' is_streaming=False\n",
            "Step handle_llm_input produced event StopEvent\n",
            "\u001b[1;3;34mObservation: Dr. John Smith is a cardiologist with 15 years of experience.\n",
            "\u001b[0m> Running step ad9cdf65-19ad-42be-9d28-c43f5212ada7. Step input: None\n",
            "\u001b[1;3;38;5;200mThought: I can answer without using any more tools. I'll use the user's language to answer.\n",
            "Answer: Dr. John Smith is a cardiologist with 15 years of experience.\n",
            "\u001b[0m*******\n",
            " Response :  Dr. John Smith is a cardiologist with 15 years of experience.\n"
          ]
        }
      ],
      "source": [
        "response=multi_agent.chat(\"Which doctors are cardiologists?\")\n",
        "print(\"*******\\n Response : \",response.response)"
      ]
    },
    {
      "cell_type": "code",
      "execution_count": null,
      "id": "9e1d5415-0e12-4f29-9765-fa43230da871",
      "metadata": {
        "id": "9e1d5415-0e12-4f29-9765-fa43230da871",
        "outputId": "90a87e2f-a090-4043-b47f-77ad2ed056d4"
      },
      "outputs": [
        {
          "name": "stdout",
          "output_type": "stream",
          "text": [
            "> Running step cfe37040-e09a-40e7-afae-2e9c585db6aa. Step input: Find a neurologist and request an appointment for Trevor Hunt at the earliest\n",
            "\u001b[1;3;38;5;200mThought: The current language of the user is English. I need to use a tool to find a neurologist and schedule an appointment for Trevor Hunt.\n",
            "Action: doctors_and_appointments\n",
            "Action Input: {'query': 'Find a neurologist and request an appointment for Trevor Hunt at the earliest'}\n",
            "\u001b[0mRunning step new_user_msg\n",
            "Step new_user_msg produced event PrepEvent\n",
            "Running step prepare_chat_history\n",
            "Step prepare_chat_history produced event InputEvent\n",
            "Running step handle_llm_input\n",
            "*** LLM Returned :  thought='The current language of the user is English. I need to use a tool to find a neurologist.' action='query_engine_tool' action_input={'input': 'neurologist'}\n",
            "Step handle_llm_input produced event ToolCallEvent\n",
            "Running step handle_tool_calls\n",
            "*** Calling tools :  [ToolSelection(tool_id='fake', tool_name='query_engine_tool', tool_kwargs={'input': 'neurologist'})]\n",
            "Step handle_tool_calls produced event PrepEvent\n",
            "Running step prepare_chat_history\n",
            "Step prepare_chat_history produced event InputEvent\n",
            "Running step handle_llm_input\n",
            "*** LLM Returned :  thought='I have found a neurologist, Dr. Michael Brown. I will now schedule an appointment for Trevor Hunt.' action='schedule_appointment' action_input={'patient_name': 'Trevor Hunt', 'doctor_name': 'Dr. Michael Brown', 'scheduling_comments': 'at the earliest convenience'}\n",
            "Step handle_llm_input produced event ToolCallEvent\n",
            "Running step handle_tool_calls\n",
            "*** Calling tools :  [ToolSelection(tool_id='fake', tool_name='schedule_appointment', tool_kwargs={'patient_name': 'Trevor Hunt', 'doctor_name': 'Dr. Michael Brown', 'scheduling_comments': 'at the earliest convenience'})]\n",
            "Step handle_tool_calls produced event PrepEvent\n",
            "Running step prepare_chat_history\n",
            "Step prepare_chat_history produced event InputEvent\n",
            "Running step handle_llm_input\n",
            "*** LLM Returned :  thought=\"I can answer without using any more tools. I'll use the user's language to answer.\" response='The appointment for Trevor Hunt with Dr. Michael Brown has been successfully scheduled at the earliest convenience.' is_streaming=False\n",
            "Step handle_llm_input produced event StopEvent\n",
            "\u001b[1;3;34mObservation: The appointment for Trevor Hunt with Dr. Michael Brown has been successfully scheduled at the earliest convenience.\n",
            "\u001b[0m> Running step 8b40f1ca-19dc-43a8-9170-b67dd5a89b6d. Step input: None\n",
            "\u001b[1;3;38;5;200mThought: I can answer without using any more tools. I'll use the user's language to answer.\n",
            "Answer: The appointment for Trevor Hunt with Dr. Michael Brown, a neurologist, has been successfully scheduled at the earliest convenience.\n",
            "\u001b[0m"
          ]
        }
      ],
      "source": [
        "response=multi_agent.chat(\n",
        "    \"Find a neurologist and request an appointment for Trevor Hunt at the earliest\")"
      ]
    },
    {
      "cell_type": "code",
      "execution_count": null,
      "id": "a2cd8a36-475f-462c-be3b-1d9a2741474d",
      "metadata": {
        "id": "a2cd8a36-475f-462c-be3b-1d9a2741474d"
      },
      "outputs": [],
      "source": []
    }
  ],
  "metadata": {
    "kernelspec": {
      "display_name": "Python 3",
      "language": "python",
      "name": "python3"
    },
    "language_info": {
      "codemirror_mode": {
        "name": "ipython",
        "version": 3
      },
      "file_extension": ".py",
      "mimetype": "text/x-python",
      "name": "python",
      "nbconvert_exporter": "python",
      "pygments_lexer": "ipython3",
      "version": "3.10.12"
    },
    "colab": {
      "provenance": [],
      "include_colab_link": true
    }
  },
  "nbformat": 4,
  "nbformat_minor": 5
}