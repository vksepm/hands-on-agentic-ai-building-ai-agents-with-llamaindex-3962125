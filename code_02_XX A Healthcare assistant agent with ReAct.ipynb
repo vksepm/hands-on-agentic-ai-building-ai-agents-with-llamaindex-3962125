{
  "cells": [
    {
      "cell_type": "markdown",
      "metadata": {
        "id": "view-in-github",
        "colab_type": "text"
      },
      "source": [
        "<a href=\"https://colab.research.google.com/github/vksepm/hands-on-agentic-ai-building-ai-agents-with-llamaindex-3962125/blob/main/code_02_XX%20A%20Healthcare%20assistant%20agent%20with%20ReAct.ipynb\" target=\"_parent\"><img src=\"https://colab.research.google.com/assets/colab-badge.svg\" alt=\"Open In Colab\"/></a>"
      ]
    },
    {
      "cell_type": "code",
      "source": [
        "!pip install -qU python-dotenv\n",
        "!pip install -qU llama-index\n",
        "!pip install -qU llama-index-llms-openai\n",
        "!pip install -qU llama-index-embeddings-openai\n",
        "!pip install -qU llama-index-llms-azure-openai\n",
        "!pip install -qU llama-index-embeddings-azure-openai\n",
        "!pip install -qU llama-index-agent-introspective\n",
        "!pip install -qU llama-index-program-openai\n",
        "!pip install -qU llama-index-readers-file\n",
        "!pip install -qU pydantic\n",
        "!pip install -qU llama-index-core\n",
        "!pip install -qU llama-index-utils-workflow\n",
        "!pip install -qU llama-index-tools-wikipedia\n",
        "!pip install -qU llama-index-readers-json\n",
        "!pip install -qU llama-index-readers-file\n",
        "!pip install -qU pymupdf\n",
        "!pip install -qU llama-index-tools-google\n",
        "!pip install -qU nbformat"
      ],
      "metadata": {
        "id": "y9HsU9aIVf_X",
        "outputId": "988aba33-9026-4f65-9cfe-88e1578dd701",
        "colab": {
          "base_uri": "https://localhost:8080/"
        }
      },
      "id": "y9HsU9aIVf_X",
      "execution_count": 1,
      "outputs": [
        {
          "output_type": "stream",
          "name": "stdout",
          "text": [
            "\u001b[2K   \u001b[90m━━━━━━━━━━━━━━━━━━━━━━━━━━━━━━━━━━━━━━━━\u001b[0m \u001b[32m1.6/1.6 MB\u001b[0m \u001b[31m19.0 MB/s\u001b[0m eta \u001b[36m0:00:00\u001b[0m\n",
            "\u001b[2K   \u001b[90m━━━━━━━━━━━━━━━━━━━━━━━━━━━━━━━━━━━━━━━━\u001b[0m \u001b[32m40.8/40.8 kB\u001b[0m \u001b[31m1.3 MB/s\u001b[0m eta \u001b[36m0:00:00\u001b[0m\n",
            "\u001b[2K   \u001b[90m━━━━━━━━━━━━━━━━━━━━━━━━━━━━━━━━━━━━━━━━\u001b[0m \u001b[32m251.3/251.3 kB\u001b[0m \u001b[31m14.0 MB/s\u001b[0m eta \u001b[36m0:00:00\u001b[0m\n",
            "\u001b[2K   \u001b[90m━━━━━━━━━━━━━━━━━━━━━━━━━━━━━━━━━━━━━━━━\u001b[0m \u001b[32m302.3/302.3 kB\u001b[0m \u001b[31m17.4 MB/s\u001b[0m eta \u001b[36m0:00:00\u001b[0m\n",
            "\u001b[2K   \u001b[90m━━━━━━━━━━━━━━━━━━━━━━━━━━━━━━━━━━━━━━━━\u001b[0m \u001b[32m1.2/1.2 MB\u001b[0m \u001b[31m30.4 MB/s\u001b[0m eta \u001b[36m0:00:00\u001b[0m\n",
            "\u001b[2K   \u001b[90m━━━━━━━━━━━━━━━━━━━━━━━━━━━━━━━━━━━━━━━━\u001b[0m \u001b[32m50.9/50.9 kB\u001b[0m \u001b[31m2.4 MB/s\u001b[0m eta \u001b[36m0:00:00\u001b[0m\n",
            "\u001b[2K     \u001b[90m━━━━━━━━━━━━━━━━━━━━━━━━━━━━━━━━━━━━━━━━\u001b[0m \u001b[32m81.3/81.3 kB\u001b[0m \u001b[31m2.0 MB/s\u001b[0m eta \u001b[36m0:00:00\u001b[0m\n",
            "\u001b[2K   \u001b[90m━━━━━━━━━━━━━━━━━━━━━━━━━━━━━━━━━━━━━━━━\u001b[0m \u001b[32m189.2/189.2 kB\u001b[0m \u001b[31m7.1 MB/s\u001b[0m eta \u001b[36m0:00:00\u001b[0m\n",
            "\u001b[2K   \u001b[90m━━━━━━━━━━━━━━━━━━━━━━━━━━━━━━━━━━━━━━━━\u001b[0m \u001b[32m198.9/198.9 kB\u001b[0m \u001b[31m14.6 MB/s\u001b[0m eta \u001b[36m0:00:00\u001b[0m\n",
            "\u001b[2K   \u001b[90m━━━━━━━━━━━━━━━━━━━━━━━━━━━━━━━━━━━━━━━━\u001b[0m \u001b[32m114.7/114.7 kB\u001b[0m \u001b[31m8.0 MB/s\u001b[0m eta \u001b[36m0:00:00\u001b[0m\n",
            "\u001b[2K   \u001b[90m━━━━━━━━━━━━━━━━━━━━━━━━━━━━━━━━━━━━━━━━\u001b[0m \u001b[32m756.0/756.0 kB\u001b[0m \u001b[31m12.4 MB/s\u001b[0m eta \u001b[36m0:00:00\u001b[0m\n",
            "\u001b[2K   \u001b[90m━━━━━━━━━━━━━━━━━━━━━━━━━━━━━━━━━━━━━━━━\u001b[0m \u001b[32m1.6/1.6 MB\u001b[0m \u001b[31m50.8 MB/s\u001b[0m eta \u001b[36m0:00:00\u001b[0m\n",
            "\u001b[?25h  Preparing metadata (setup.py) ... \u001b[?25l\u001b[?25hdone\n",
            "  Building wheel for wikipedia (setup.py) ... \u001b[?25l\u001b[?25hdone\n",
            "\u001b[2K   \u001b[90m━━━━━━━━━━━━━━━━━━━━━━━━━━━━━━━━━━━━━━━━\u001b[0m \u001b[32m20.0/20.0 MB\u001b[0m \u001b[31m76.2 MB/s\u001b[0m eta \u001b[36m0:00:00\u001b[0m\n",
            "\u001b[?25h"
          ]
        }
      ]
    },
    {
      "cell_type": "code",
      "source": [
        "%%bash\n",
        "git clone https://github.com/vksepm/hands-on-agentic-ai-building-ai-agents-with-llamaindex-3962125.git\n",
        "mv ./hands-on-agentic-ai-building-ai-agents-with-llamaindex-3962125/* .\n",
        "rm -rf ./hands-on-agentic-ai-building-ai-agents-with-llamaindex-3962125/"
      ],
      "metadata": {
        "id": "GDhxJmHHWXA1",
        "outputId": "cb6ffde1-6f78-4fa3-eada-7369a55f3c0b",
        "colab": {
          "base_uri": "https://localhost:8080/"
        }
      },
      "id": "GDhxJmHHWXA1",
      "execution_count": 5,
      "outputs": [
        {
          "output_type": "stream",
          "name": "stdout",
          "text": [
            "Cloning into 'hands-on-agentic-ai-building-ai-agents-with-llamaindex-3962125'...\n",
            "remote: Enumerating objects: 92, done.\u001b[K\n",
            "remote: Counting objects: 100% (92/92), done.\u001b[K\n",
            "remote: Compressing objects: 100% (72/72), done.\u001b[K\n",
            "remote: Total 92 (delta 34), reused 44 (delta 11), pack-reused 0 (from 0)\u001b[K\n",
            "Receiving objects: 100% (92/92), 479.59 KiB | 3.18 MiB/s, done.\n",
            "Resolving deltas: 100% (34/34), done.\n"
          ]
        }
      ]
    },
    {
      "cell_type": "markdown",
      "id": "d7bfea18",
      "metadata": {
        "id": "d7bfea18"
      },
      "source": [
        "### Set up LLM and Embedding"
      ]
    },
    {
      "cell_type": "code",
      "execution_count": 11,
      "id": "d157a7ad-1968-4149-b713-c5e38a6458a4",
      "metadata": {
        "id": "d157a7ad-1968-4149-b713-c5e38a6458a4"
      },
      "outputs": [],
      "source": [
        "from llama_index.llms.azure_openai import AzureOpenAI\n",
        "from llama_index.embeddings.azure_openai import AzureOpenAIEmbedding\n",
        "from llama_index.core import Settings\n",
        "import os\n",
        "import nest_asyncio\n",
        "from google.colab import userdata\n",
        "\n",
        "\n",
        "\n",
        "#Used by LlamaIndex\n",
        "nest_asyncio.apply()\n",
        "\n",
        "#Setup the environment variables\n",
        "os.environ[\"AZURE_OPENAI_ENDPOINT\"] = userdata.get('AZURE_OPENAI_ENDPOINT')\n",
        "os.environ[\"AZURE_OPENAI_API_KEY\"] = userdata.get('AZURE_OPENAI_API_KEY')\n",
        "os.environ[\"OPENAI_API_VERSION\"] = userdata.get('OPENAI_API_VERSION')\n",
        "\n",
        "#Note : Function calling support only available in GPT-4+\n",
        "#Create the LLM object\n",
        "Settings.llm=AzureOpenAI(\n",
        "    model=\"gpt-4o-mini\",\n",
        "    deployment_name=\"gpt-4o-mini\",\n",
        "    api_version=\"2024-08-01-preview\",\n",
        ")\n",
        "\n",
        "#Set up the embedding model for RAG\n",
        "Settings.embed_model = AzureOpenAIEmbedding(\n",
        "    model=\"text-embedding-3-small\",\n",
        "    api_key=userdata.get('AZURE_OPENAI_API_KEY'),\n",
        "    azure_endpoint=userdata.get('AZURE_OPENAI_ENDPOINT'),\n",
        "    api_version=\"2023-05-15\",\n",
        ")"
      ]
    },
    {
      "cell_type": "markdown",
      "id": "4abd3890-1782-4e43-a200-d17a915bfd3b",
      "metadata": {
        "id": "4abd3890-1782-4e43-a200-d17a915bfd3b"
      },
      "source": [
        "### 02.03. Set up wikipedia tools"
      ]
    },
    {
      "cell_type": "code",
      "execution_count": 4,
      "id": "2dfe8385-3acf-4f5b-b179-719b51052ea4",
      "metadata": {
        "id": "2dfe8385-3acf-4f5b-b179-719b51052ea4",
        "outputId": "dc84ae55-d5c7-4053-d7f3-1cd2235c1d85",
        "colab": {
          "base_uri": "https://localhost:8080/"
        }
      },
      "outputs": [
        {
          "output_type": "stream",
          "name": "stdout",
          "text": [
            "--------\n",
            " search_data \n",
            "        Use this tool to load data from the following function. It must then be read from\n",
            "        the corresponding read_search_data function.\n",
            "\n",
            "        search_data(query: str, lang: str = 'en') -> str\n",
            "\n",
            "        Search Wikipedia for a page related to the given query.\n",
            "        Use this tool when `load_data` returns no results.\n",
            "\n",
            "        Args:\n",
            "            query (str): the string to search for\n",
            "        \n",
            "    \n",
            "--------\n",
            " read_search_data \n",
            "        Once data has been loaded from search_data it can then be read using a natural\n",
            "        language query from this function.\n",
            "\n",
            "        You are required to pass the natural language query argument when calling this endpoint\n",
            "\n",
            "        Args:\n",
            "            query (str): The natural language query used to retreieve information from the index\n",
            "    \n"
          ]
        }
      ],
      "source": [
        "from llama_index.tools.wikipedia import WikipediaToolSpec\n",
        "from llama_index.core.tools.tool_spec.load_and_search import (\n",
        "    LoadAndSearchToolSpec,\n",
        ")\n",
        "\n",
        "# Get list of wikipedia tools\n",
        "wiki_spec = WikipediaToolSpec()\n",
        "tool = wiki_spec.to_tool_list()[1]\n",
        "wiki_tools = LoadAndSearchToolSpec.from_defaults(tool).to_tool_list()\n",
        "\n",
        "#Review the list of tools\n",
        "for tool in wiki_tools:\n",
        "    print( \"--------\\n\",tool.metadata.name, tool.metadata.description)"
      ]
    },
    {
      "cell_type": "markdown",
      "id": "3d24df32-c08f-4d71-b8c1-5dfa15664c47",
      "metadata": {
        "id": "3d24df32-c08f-4d71-b8c1-5dfa15664c47"
      },
      "source": [
        "### 02.04. Set up RAG for medications"
      ]
    },
    {
      "cell_type": "code",
      "execution_count": 12,
      "id": "f4a900c9-4a09-4ab1-8c1b-441796c0d1e2",
      "metadata": {
        "id": "f4a900c9-4a09-4ab1-8c1b-441796c0d1e2"
      },
      "outputs": [],
      "source": [
        "#from llama_index.core import SimpleDirectoryReader\n",
        "#from llama_index.readers.file import CSVReader\n",
        "from llama_index.core.node_parser import SentenceSplitter\n",
        "from llama_index.core import  VectorStoreIndex\n",
        "from llama_index.core.tools import QueryEngineTool\n",
        "from llama_index.readers.json import JSONReader\n",
        "\n",
        "medication_docs = JSONReader().load_data(\n",
        "        input_file=\"datasets/Medications and dosages.json\"\n",
        ")\n",
        "#Split the document\n",
        "splitter=SentenceSplitter(chunk_size=200)\n",
        "medication_nodes=splitter.get_nodes_from_documents(medication_docs)\n",
        "\n",
        "#Index the document in memory\n",
        "medication_index=VectorStoreIndex(medication_nodes)\n",
        "\n",
        "#Create a query engine tool based on the CSV file\n",
        "medication_query_engine = medication_index.as_query_engine()\n",
        "medication_tool = QueryEngineTool.from_defaults(\n",
        "    query_engine=medication_query_engine,\n",
        "    description=(\n",
        "        \"Provides list of popular medications, diseases they are used to treat for and recommended dosages\"\n",
        "    ),\n",
        ")"
      ]
    },
    {
      "cell_type": "markdown",
      "id": "e4905078",
      "metadata": {
        "id": "e4905078"
      },
      "source": [
        "### 02.05. Set up & execute the Healthcare Agent"
      ]
    },
    {
      "cell_type": "code",
      "execution_count": null,
      "id": "4dfa748c-76a4-4f43-81d5-e81b22823658",
      "metadata": {
        "id": "4dfa748c-76a4-4f43-81d5-e81b22823658"
      },
      "outputs": [],
      "source": [
        "from llama_index.core.agent.react.base import ReActAgent\n",
        "#Consolidate list of tools\n",
        "healthcare_tools =wiki_tools + [medication_tool]\n",
        "\n",
        "context = \"\"\"\n",
        "You are an healthcare assistant who can answer questions regarding\n",
        "diseases, their symptoms and medications for them.\n",
        "\n",
        "Use the wikipedia tools to answer questions about symptoms and possible\n",
        "diseases associated with those symptoms.\n",
        "Use the medication tool to find list of medications and dosages for a given\n",
        "disease.\n",
        "\n",
        "Use only the tools provided to answer questions and NOT your own memory.\n",
        "\n",
        "\"\"\"\n",
        "\n",
        "#Create a pre-built ReAct agent\n",
        "healthcare_agent = ReActAgent.from_tools(\n",
        "                healthcare_tools,\n",
        "                llm=Settings.llm,\n",
        "                context=context,\n",
        "                verbose=True #Set verbose for detailed logs\n",
        "                )\n"
      ]
    },
    {
      "cell_type": "code",
      "execution_count": null,
      "id": "be839a2c-a5a1-4a4d-a855-3b1ffd0601a4",
      "metadata": {
        "id": "be839a2c-a5a1-4a4d-a855-3b1ffd0601a4",
        "outputId": "51bec895-a764-484c-ae97-a7c703028b3b"
      },
      "outputs": [
        {
          "name": "stdout",
          "output_type": "stream",
          "text": [
            "> Running step 291b4a1a-8c55-451f-b207-65a2adb4400b. Step input: Which medication should i take for arthritis?\n",
            "\u001b[1;3;38;5;200mThought: The current language of the user is English. I need to use a tool to find the medications for arthritis.\n",
            "Action: query_engine_tool\n",
            "Action Input: {'input': 'medications for arthritis'}\n",
            "\u001b[0m\u001b[1;3;34mObservation: Naproxen and Methotrexate are medications used for arthritis.\n",
            "\u001b[0m> Running step afed2f55-bdd6-4477-9c2f-e7bcbebe9941. Step input: None\n",
            "\u001b[1;3;38;5;200mThought: I can answer without using any more tools. I'll use the user's language to answer.\n",
            "Answer: For arthritis, Naproxen and Methotrexate are commonly used medications.\n",
            "\u001b[0m*******\n",
            " Response :  For arthritis, Naproxen and Methotrexate are commonly used medications.\n"
          ]
        }
      ],
      "source": [
        "response=healthcare_agent.chat(\"Which medication should i take for arthritis?\")\n",
        "print(\"*******\\n Response : \",response.response)"
      ]
    },
    {
      "cell_type": "code",
      "execution_count": null,
      "id": "e40ced82-9025-412a-92fc-e4f9e520b5de",
      "metadata": {
        "id": "e40ced82-9025-412a-92fc-e4f9e520b5de"
      },
      "outputs": [],
      "source": []
    }
  ],
  "metadata": {
    "kernelspec": {
      "display_name": "Python 3",
      "language": "python",
      "name": "python3"
    },
    "language_info": {
      "codemirror_mode": {
        "name": "ipython",
        "version": 3
      },
      "file_extension": ".py",
      "mimetype": "text/x-python",
      "name": "python",
      "nbconvert_exporter": "python",
      "pygments_lexer": "ipython3",
      "version": "3.10.12"
    },
    "colab": {
      "provenance": [],
      "include_colab_link": true
    }
  },
  "nbformat": 4,
  "nbformat_minor": 5
}