{
  "cells": [
    {
      "cell_type": "markdown",
      "metadata": {
        "id": "view-in-github",
        "colab_type": "text"
      },
      "source": [
        "<a href=\"https://colab.research.google.com/github/vksepm/hands-on-agentic-ai-building-ai-agents-with-llamaindex-3962125/blob/main/code_04_XX%20A%20simple%20workflow.ipynb\" target=\"_parent\"><img src=\"https://colab.research.google.com/assets/colab-badge.svg\" alt=\"Open In Colab\"/></a>"
      ]
    },
    {
      "cell_type": "code",
      "execution_count": null,
      "id": "0c4164da-e3fa-496a-b6d2-181ad55a6024",
      "metadata": {
        "id": "0c4164da-e3fa-496a-b6d2-181ad55a6024"
      },
      "outputs": [],
      "source": [
        "#The code below is required when running as an executable\n",
        "#This is NOT needed in a notebook\n",
        "\n",
        "#async def main():\n",
        "#    <async code>\n",
        "\n",
        "#if __name__ == \"__main__\":\n",
        "#    import asyncio\n",
        "#    asyncio.run(main())"
      ]
    },
    {
      "cell_type": "code",
      "execution_count": null,
      "id": "2a8cf024-a090-408e-b95e-d8f4a711826e",
      "metadata": {
        "id": "2a8cf024-a090-408e-b95e-d8f4a711826e"
      },
      "outputs": [],
      "source": [
        "from llama_index.core.workflow import (\n",
        "    StartEvent,\n",
        "    StopEvent,\n",
        "    Workflow,\n",
        "    Event,\n",
        "    Context,\n",
        "    step,\n",
        ")\n",
        "from llama_index.utils.workflow import draw_all_possible_flows\n",
        "from typing import Any\n",
        "\n",
        "#Define a custom ValidateEvent that inherits from Event\n",
        "class ValidateEvent(Event):\n",
        "    iterations: int\n",
        "\n",
        "#Define a custom ContinueEvent that inherits from Event\n",
        "class ContinueEvent(Event):\n",
        "    iterations: int\n",
        "\n",
        "#Define a workflow class inheriting from Workflow\n",
        "class SimpleWorkFlow(Workflow):\n",
        "\n",
        "    #Any initialization steps needed here\n",
        "    def __init__ (\n",
        "        self,\n",
        "        *args: Any,\n",
        "        max_iterations: int, #Pass custom parameters too.\n",
        "        **kwargs: Any,\n",
        "    ) -> None:\n",
        "\n",
        "        #Initialize the super class\n",
        "        super().__init__(*args, **kwargs)\n",
        "        #Store input into instance variables\n",
        "        self.max_iterations = max_iterations\n",
        "\n",
        "\n",
        "    #First step\n",
        "    @step\n",
        "    async def runLoop(self,\n",
        "                       ctx: Context,\n",
        "                       event : StartEvent | ContinueEvent ) -> ValidateEvent :\n",
        "\n",
        "        #If StartEvent, the initialize variables\n",
        "        if isinstance(event, StartEvent):\n",
        "            iterations=0\n",
        "            current_result=\"\"\n",
        "        else:\n",
        "            #for ContinueEvent\n",
        "            #read current result from Context\n",
        "            current_result=await ctx.get(\"current_result\")\n",
        "            #Read current iteration count from event\n",
        "            iterations=event.iterations\n",
        "\n",
        "        #Bump no. of iterations\n",
        "        iterations = iterations + 1\n",
        "        #Create current result value\n",
        "        current_result = f\"*** Iteration : { iterations } {self.max_iterations}\"\n",
        "        print(current_result)\n",
        "\n",
        "        #Set current result value in context.\n",
        "        await ctx.set(\"current_result\", current_result)\n",
        "\n",
        "        #Return validate event, with current value of iterations\n",
        "        return ValidateEvent(iterations=iterations)\n",
        "\n",
        "    @step\n",
        "    async def checkIterations(self,\n",
        "                              ctx: Context,\n",
        "                              event: ValidateEvent) -> StopEvent | ContinueEvent :\n",
        "\n",
        "        #Read current iteration count from event\n",
        "        iterations = event.iterations\n",
        "        #Read max iterations from instance variable\n",
        "        max_iterations=self.max_iterations\n",
        "        #Read current result from context\n",
        "        current_result=await ctx.get(\"current_result\")\n",
        "\n",
        "        print(f\"*** Current iteration to validate : {iterations} {max_iterations}\")\n",
        "        #Perform check if max iterations is reached.\n",
        "        if iterations >= max_iterations:\n",
        "            #Return stop event if max iterations is reached, with current result\n",
        "            return StopEvent(result=current_result)\n",
        "        else:\n",
        "            #Read continue event with current iteration count\n",
        "            return ContinueEvent(iterations=iterations)\n",
        "\n",
        "#Draw a workflow graph. This may not work inside codespaces.\n",
        "#draw_all_possible_flows(SimpleWorkFlow, filename=\"test_flow.html\")\n"
      ]
    },
    {
      "cell_type": "code",
      "execution_count": null,
      "id": "84c808ee-e74a-404e-8d25-760e685eab49",
      "metadata": {
        "id": "84c808ee-e74a-404e-8d25-760e685eab49",
        "outputId": "2215f2e3-f8d4-4bb1-cb99-d76fbfa81eff"
      },
      "outputs": [
        {
          "name": "stdout",
          "output_type": "stream",
          "text": [
            "Running step runLoop\n",
            "*** Iteration : 1 3\n",
            "Step runLoop produced event ValidateEvent\n",
            "Running step checkIterations\n",
            "*** Current iteration to validate : 1 3\n",
            "Step checkIterations produced event ContinueEvent\n",
            "Running step runLoop\n",
            "*** Iteration : 2 3\n",
            "Step runLoop produced event ValidateEvent\n",
            "Running step checkIterations\n",
            "*** Current iteration to validate : 2 3\n",
            "Step checkIterations produced event ContinueEvent\n",
            "Running step runLoop\n",
            "*** Iteration : 3 3\n",
            "Step runLoop produced event ValidateEvent\n",
            "Running step checkIterations\n",
            "*** Current iteration to validate : 3 3\n",
            "Step checkIterations produced event StopEvent\n",
            "*** Iteration : 3 3\n"
          ]
        }
      ],
      "source": [
        "#Create a workflow\n",
        "workflowobj = SimpleWorkFlow(\n",
        "                timeout = 10, # Max allowed time to execute workflow, in seconds\n",
        "                verbose = True, # Print debug messages\n",
        "                max_iterations=3 # Custom input to workflow\n",
        "                )\n",
        "\n",
        "#Execute the workflow with async\n",
        "result = await workflowobj.run()\n",
        "print(result)"
      ]
    },
    {
      "cell_type": "code",
      "execution_count": null,
      "id": "8bd1c587-ac23-4c22-b314-9862cc71570c",
      "metadata": {
        "id": "8bd1c587-ac23-4c22-b314-9862cc71570c"
      },
      "outputs": [],
      "source": []
    }
  ],
  "metadata": {
    "kernelspec": {
      "display_name": "Python 3",
      "language": "python",
      "name": "python3"
    },
    "language_info": {
      "codemirror_mode": {
        "name": "ipython",
        "version": 3
      },
      "file_extension": ".py",
      "mimetype": "text/x-python",
      "name": "python",
      "nbconvert_exporter": "python",
      "pygments_lexer": "ipython3",
      "version": "3.10.12"
    },
    "colab": {
      "provenance": [],
      "include_colab_link": true
    }
  },
  "nbformat": 4,
  "nbformat_minor": 5
}