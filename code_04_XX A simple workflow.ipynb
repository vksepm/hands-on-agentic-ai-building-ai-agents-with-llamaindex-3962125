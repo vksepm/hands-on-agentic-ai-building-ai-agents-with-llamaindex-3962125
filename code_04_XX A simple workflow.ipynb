{
  "cells": [
    {
      "cell_type": "markdown",
      "metadata": {
        "id": "view-in-github",
        "colab_type": "text"
      },
      "source": [
        "<a href=\"https://colab.research.google.com/github/vksepm/hands-on-agentic-ai-building-ai-agents-with-llamaindex-3962125/blob/main/code_04_XX%20A%20simple%20workflow.ipynb\" target=\"_parent\"><img src=\"https://colab.research.google.com/assets/colab-badge.svg\" alt=\"Open In Colab\"/></a>"
      ]
    },
    {
      "cell_type": "code",
      "source": [
        "!pip install -qU python-dotenv\n",
        "!pip install -qU llama-index\n",
        "!pip install -qU llama-index-llms-openai\n",
        "!pip install -qU llama-index-embeddings-openai\n",
        "!pip install -qU llama-index-llms-azure-openai\n",
        "!pip install -qU llama-index-embeddings-azure-openai\n",
        "!pip install -qU llama-index-agent-introspective\n",
        "!pip install -qU llama-index-program-openai\n",
        "!pip install -qU llama-index-readers-file\n",
        "!pip install -qU pydantic\n",
        "!pip install -qU llama-index-core\n",
        "!pip install -qU llama-index-utils-workflow\n",
        "!pip install -qU llama-index-tools-wikipedia\n",
        "!pip install -qU llama-index-readers-json\n",
        "!pip install -qU llama-index-readers-file\n",
        "!pip install -qU pymupdf\n",
        "!pip install -qU llama-index-tools-google\n",
        "!pip install -qU nbformat\n",
        "!pip install -qU arize-phoenix\n",
        "!pip install -qU llama-index\n",
        "!pip install -qU llama-index-callbacks-arize-phoenix"
      ],
      "metadata": {
        "colab": {
          "base_uri": "https://localhost:8080/"
        },
        "id": "KBgp2QHpfb1f",
        "outputId": "65b48dd5-d1a3-4e46-db98-f284deb78374"
      },
      "id": "KBgp2QHpfb1f",
      "execution_count": 1,
      "outputs": [
        {
          "output_type": "stream",
          "name": "stdout",
          "text": [
            "\u001b[2K   \u001b[90m━━━━━━━━━━━━━━━━━━━━━━━━━━━━━━━━━━━━━━━━\u001b[0m \u001b[32m1.6/1.6 MB\u001b[0m \u001b[31m21.1 MB/s\u001b[0m eta \u001b[36m0:00:00\u001b[0m\n",
            "\u001b[2K   \u001b[90m━━━━━━━━━━━━━━━━━━━━━━━━━━━━━━━━━━━━━━━━\u001b[0m \u001b[32m40.8/40.8 kB\u001b[0m \u001b[31m2.6 MB/s\u001b[0m eta \u001b[36m0:00:00\u001b[0m\n",
            "\u001b[2K   \u001b[90m━━━━━━━━━━━━━━━━━━━━━━━━━━━━━━━━━━━━━━━━\u001b[0m \u001b[32m251.3/251.3 kB\u001b[0m \u001b[31m17.8 MB/s\u001b[0m eta \u001b[36m0:00:00\u001b[0m\n",
            "\u001b[2K   \u001b[90m━━━━━━━━━━━━━━━━━━━━━━━━━━━━━━━━━━━━━━━━\u001b[0m \u001b[32m302.3/302.3 kB\u001b[0m \u001b[31m18.7 MB/s\u001b[0m eta \u001b[36m0:00:00\u001b[0m\n",
            "\u001b[2K   \u001b[90m━━━━━━━━━━━━━━━━━━━━━━━━━━━━━━━━━━━━━━━━\u001b[0m \u001b[32m1.2/1.2 MB\u001b[0m \u001b[31m44.1 MB/s\u001b[0m eta \u001b[36m0:00:00\u001b[0m\n",
            "\u001b[2K   \u001b[90m━━━━━━━━━━━━━━━━━━━━━━━━━━━━━━━━━━━━━━━━\u001b[0m \u001b[32m50.9/50.9 kB\u001b[0m \u001b[31m3.0 MB/s\u001b[0m eta \u001b[36m0:00:00\u001b[0m\n",
            "\u001b[2K     \u001b[90m━━━━━━━━━━━━━━━━━━━━━━━━━━━━━━━━━━━━━━━━\u001b[0m \u001b[32m81.3/81.3 kB\u001b[0m \u001b[31m2.0 MB/s\u001b[0m eta \u001b[36m0:00:00\u001b[0m\n",
            "\u001b[2K   \u001b[90m━━━━━━━━━━━━━━━━━━━━━━━━━━━━━━━━━━━━━━━━\u001b[0m \u001b[32m189.2/189.2 kB\u001b[0m \u001b[31m7.4 MB/s\u001b[0m eta \u001b[36m0:00:00\u001b[0m\n",
            "\u001b[2K   \u001b[90m━━━━━━━━━━━━━━━━━━━━━━━━━━━━━━━━━━━━━━━━\u001b[0m \u001b[32m198.9/198.9 kB\u001b[0m \u001b[31m13.1 MB/s\u001b[0m eta \u001b[36m0:00:00\u001b[0m\n",
            "\u001b[2K   \u001b[90m━━━━━━━━━━━━━━━━━━━━━━━━━━━━━━━━━━━━━━━━\u001b[0m \u001b[32m114.7/114.7 kB\u001b[0m \u001b[31m8.8 MB/s\u001b[0m eta \u001b[36m0:00:00\u001b[0m\n",
            "\u001b[2K   \u001b[90m━━━━━━━━━━━━━━━━━━━━━━━━━━━━━━━━━━━━━━━━\u001b[0m \u001b[32m756.0/756.0 kB\u001b[0m \u001b[31m12.2 MB/s\u001b[0m eta \u001b[36m0:00:00\u001b[0m\n",
            "\u001b[2K   \u001b[90m━━━━━━━━━━━━━━━━━━━━━━━━━━━━━━━━━━━━━━━━\u001b[0m \u001b[32m1.6/1.6 MB\u001b[0m \u001b[31m52.3 MB/s\u001b[0m eta \u001b[36m0:00:00\u001b[0m\n",
            "\u001b[?25h  Preparing metadata (setup.py) ... \u001b[?25l\u001b[?25hdone\n",
            "  Building wheel for wikipedia (setup.py) ... \u001b[?25l\u001b[?25hdone\n",
            "\u001b[2K   \u001b[90m━━━━━━━━━━━━━━━━━━━━━━━━━━━━━━━━━━━━━━━━\u001b[0m \u001b[32m20.0/20.0 MB\u001b[0m \u001b[31m73.1 MB/s\u001b[0m eta \u001b[36m0:00:00\u001b[0m\n",
            "\u001b[2K   \u001b[90m━━━━━━━━━━━━━━━━━━━━━━━━━━━━━━━━━━━━━━━━\u001b[0m \u001b[32m3.8/3.8 MB\u001b[0m \u001b[31m35.5 MB/s\u001b[0m eta \u001b[36m0:00:00\u001b[0m\n",
            "\u001b[2K   \u001b[90m━━━━━━━━━━━━━━━━━━━━━━━━━━━━━━━━━━━━━━━━\u001b[0m \u001b[32m231.8/231.8 kB\u001b[0m \u001b[31m14.6 MB/s\u001b[0m eta \u001b[36m0:00:00\u001b[0m\n",
            "\u001b[2K   \u001b[90m━━━━━━━━━━━━━━━━━━━━━━━━━━━━━━━━━━━━━━━━\u001b[0m \u001b[32m62.5/62.5 kB\u001b[0m \u001b[31m4.4 MB/s\u001b[0m eta \u001b[36m0:00:00\u001b[0m\n",
            "\u001b[2K   \u001b[90m━━━━━━━━━━━━━━━━━━━━━━━━━━━━━━━━━━━━━━━━\u001b[0m \u001b[32m55.9/55.9 kB\u001b[0m \u001b[31m4.3 MB/s\u001b[0m eta \u001b[36m0:00:00\u001b[0m\n",
            "\u001b[2K   \u001b[90m━━━━━━━━━━━━━━━━━━━━━━━━━━━━━━━━━━━━━━━━\u001b[0m \u001b[32m3.0/3.0 MB\u001b[0m \u001b[31m60.3 MB/s\u001b[0m eta \u001b[36m0:00:00\u001b[0m\n",
            "\u001b[2K   \u001b[90m━━━━━━━━━━━━━━━━━━━━━━━━━━━━━━━━━━━━━━━━\u001b[0m \u001b[32m296.0/296.0 kB\u001b[0m \u001b[31m14.5 MB/s\u001b[0m eta \u001b[36m0:00:00\u001b[0m\n",
            "\u001b[2K   \u001b[90m━━━━━━━━━━━━━━━━━━━━━━━━━━━━━━━━━━━━━━━━\u001b[0m \u001b[32m231.4/231.4 kB\u001b[0m \u001b[31m13.8 MB/s\u001b[0m eta \u001b[36m0:00:00\u001b[0m\n",
            "\u001b[2K   \u001b[90m━━━━━━━━━━━━━━━━━━━━━━━━━━━━━━━━━━━━━━━━\u001b[0m \u001b[32m95.2/95.2 kB\u001b[0m \u001b[31m6.4 MB/s\u001b[0m eta \u001b[36m0:00:00\u001b[0m\n",
            "\u001b[2K   \u001b[90m━━━━━━━━━━━━━━━━━━━━━━━━━━━━━━━━━━━━━━━━\u001b[0m \u001b[32m72.0/72.0 kB\u001b[0m \u001b[31m5.0 MB/s\u001b[0m eta \u001b[36m0:00:00\u001b[0m\n",
            "\u001b[2K   \u001b[90m━━━━━━━━━━━━━━━━━━━━━━━━━━━━━━━━━━━━━━━━\u001b[0m \u001b[32m118.9/118.9 kB\u001b[0m \u001b[31m8.6 MB/s\u001b[0m eta \u001b[36m0:00:00\u001b[0m\n",
            "\u001b[2K   \u001b[90m━━━━━━━━━━━━━━━━━━━━━━━━━━━━━━━━━━━━━━━━\u001b[0m \u001b[32m183.4/183.4 kB\u001b[0m \u001b[31m12.8 MB/s\u001b[0m eta \u001b[36m0:00:00\u001b[0m\n",
            "\u001b[2K   \u001b[90m━━━━━━━━━━━━━━━━━━━━━━━━━━━━━━━━━━━━━━━━\u001b[0m \u001b[32m65.2/65.2 kB\u001b[0m \u001b[31m4.5 MB/s\u001b[0m eta \u001b[36m0:00:00\u001b[0m\n",
            "\u001b[2K   \u001b[90m━━━━━━━━━━━━━━━━━━━━━━━━━━━━━━━━━━━━━━━━\u001b[0m \u001b[32m62.3/62.3 kB\u001b[0m \u001b[31m4.3 MB/s\u001b[0m eta \u001b[36m0:00:00\u001b[0m\n",
            "\u001b[2K   \u001b[90m━━━━━━━━━━━━━━━━━━━━━━━━━━━━━━━━━━━━━━━━\u001b[0m \u001b[32m313.6/313.6 kB\u001b[0m \u001b[31m20.0 MB/s\u001b[0m eta \u001b[36m0:00:00\u001b[0m\n",
            "\u001b[2K   \u001b[90m━━━━━━━━━━━━━━━━━━━━━━━━━━━━━━━━━━━━━━━━\u001b[0m \u001b[32m203.4/203.4 kB\u001b[0m \u001b[31m14.1 MB/s\u001b[0m eta \u001b[36m0:00:00\u001b[0m\n",
            "\u001b[?25h"
          ]
        }
      ]
    },
    {
      "cell_type": "code",
      "source": [
        "%%bash\n",
        "git clone https://github.com/vksepm/hands-on-agentic-ai-building-ai-agents-with-llamaindex-3962125.git\n",
        "mv ./hands-on-agentic-ai-building-ai-agents-with-llamaindex-3962125/* .\n",
        "rm -rf ./hands-on-agentic-ai-building-ai-agents-with-llamaindex-3962125/"
      ],
      "metadata": {
        "colab": {
          "base_uri": "https://localhost:8080/"
        },
        "id": "gciiuIH7fbzJ",
        "outputId": "0442d455-896a-47e6-bc1f-71e515979dcc"
      },
      "id": "gciiuIH7fbzJ",
      "execution_count": 2,
      "outputs": [
        {
          "output_type": "stream",
          "name": "stderr",
          "text": [
            "Cloning into 'hands-on-agentic-ai-building-ai-agents-with-llamaindex-3962125'...\n"
          ]
        }
      ]
    },
    {
      "cell_type": "code",
      "execution_count": null,
      "id": "0c4164da-e3fa-496a-b6d2-181ad55a6024",
      "metadata": {
        "id": "0c4164da-e3fa-496a-b6d2-181ad55a6024"
      },
      "outputs": [],
      "source": [
        "#The code below is required when running as an executable\n",
        "#This is NOT needed in a notebook\n",
        "\n",
        "#async def main():\n",
        "#    <async code>\n",
        "\n",
        "#if __name__ == \"__main__\":\n",
        "#    import asyncio\n",
        "#    asyncio.run(main())"
      ]
    },
    {
      "cell_type": "code",
      "execution_count": 3,
      "id": "2a8cf024-a090-408e-b95e-d8f4a711826e",
      "metadata": {
        "id": "2a8cf024-a090-408e-b95e-d8f4a711826e"
      },
      "outputs": [],
      "source": [
        "from llama_index.core.workflow import (\n",
        "    StartEvent,\n",
        "    StopEvent,\n",
        "    Workflow,\n",
        "    Event,\n",
        "    Context,\n",
        "    step,\n",
        ")\n",
        "from llama_index.utils.workflow import draw_all_possible_flows\n",
        "from typing import Any\n",
        "\n",
        "#Define a custom ValidateEvent that inherits from Event\n",
        "class ValidateEvent(Event):\n",
        "    iterations: int\n",
        "\n",
        "#Define a custom ContinueEvent that inherits from Event\n",
        "class ContinueEvent(Event):\n",
        "    iterations: int\n",
        "\n",
        "#Define a workflow class inheriting from Workflow\n",
        "class SimpleWorkFlow(Workflow):\n",
        "\n",
        "    #Any initialization steps needed here\n",
        "    def __init__ (\n",
        "        self,\n",
        "        *args: Any,\n",
        "        max_iterations: int, #Pass custom parameters too.\n",
        "        **kwargs: Any,\n",
        "    ) -> None:\n",
        "\n",
        "        #Initialize the super class\n",
        "        super().__init__(*args, **kwargs)\n",
        "        #Store input into instance variables\n",
        "        self.max_iterations = max_iterations\n",
        "\n",
        "\n",
        "    #First step\n",
        "    @step\n",
        "    async def runLoop(self,\n",
        "                       ctx: Context,\n",
        "                       event : StartEvent | ContinueEvent ) -> ValidateEvent :\n",
        "\n",
        "        #If StartEvent, the initialize variables\n",
        "        if isinstance(event, StartEvent):\n",
        "            iterations=0\n",
        "            current_result=\"\"\n",
        "        else:\n",
        "            #for ContinueEvent\n",
        "            #read current result from Context\n",
        "            current_result=await ctx.get(\"current_result\")\n",
        "            #Read current iteration count from event\n",
        "            iterations=event.iterations\n",
        "\n",
        "        #Bump no. of iterations\n",
        "        iterations = iterations + 1\n",
        "        #Create current result value\n",
        "        current_result = f\"*** Iteration : { iterations } {self.max_iterations}\"\n",
        "        print(current_result)\n",
        "\n",
        "        #Set current result value in context.\n",
        "        await ctx.set(\"current_result\", current_result)\n",
        "\n",
        "        #Return validate event, with current value of iterations\n",
        "        return ValidateEvent(iterations=iterations)\n",
        "\n",
        "    @step\n",
        "    async def checkIterations(self,\n",
        "                              ctx: Context,\n",
        "                              event: ValidateEvent) -> StopEvent | ContinueEvent :\n",
        "\n",
        "        #Read current iteration count from event\n",
        "        iterations = event.iterations\n",
        "        #Read max iterations from instance variable\n",
        "        max_iterations=self.max_iterations\n",
        "        #Read current result from context\n",
        "        current_result=await ctx.get(\"current_result\")\n",
        "\n",
        "        print(f\"*** Current iteration to validate : {iterations} {max_iterations}\")\n",
        "        #Perform check if max iterations is reached.\n",
        "        if iterations >= max_iterations:\n",
        "            #Return stop event if max iterations is reached, with current result\n",
        "            return StopEvent(result=current_result)\n",
        "        else:\n",
        "            #Read continue event with current iteration count\n",
        "            return ContinueEvent(iterations=iterations)\n",
        "\n",
        "#Draw a workflow graph. This may not work inside codespaces.\n",
        "#draw_all_possible_flows(SimpleWorkFlow, filename=\"test_flow.html\")\n"
      ]
    },
    {
      "cell_type": "code",
      "execution_count": 4,
      "id": "84c808ee-e74a-404e-8d25-760e685eab49",
      "metadata": {
        "id": "84c808ee-e74a-404e-8d25-760e685eab49",
        "outputId": "61c62238-f6b2-4779-c226-9929755cd376",
        "colab": {
          "base_uri": "https://localhost:8080/"
        }
      },
      "outputs": [
        {
          "output_type": "stream",
          "name": "stdout",
          "text": [
            "Running step runLoop\n",
            "*** Iteration : 1 3\n",
            "Step runLoop produced event ValidateEvent\n",
            "Running step checkIterations\n",
            "*** Current iteration to validate : 1 3\n",
            "Step checkIterations produced event ContinueEvent\n",
            "Running step runLoop\n",
            "*** Iteration : 2 3\n",
            "Step runLoop produced event ValidateEvent\n",
            "Running step checkIterations\n",
            "*** Current iteration to validate : 2 3\n",
            "Step checkIterations produced event ContinueEvent\n",
            "Running step runLoop\n",
            "*** Iteration : 3 3\n",
            "Step runLoop produced event ValidateEvent\n",
            "Running step checkIterations\n",
            "*** Current iteration to validate : 3 3\n",
            "Step checkIterations produced event StopEvent\n",
            "*** Iteration : 3 3\n"
          ]
        }
      ],
      "source": [
        "#Create a workflow\n",
        "workflowobj = SimpleWorkFlow(\n",
        "                timeout = 10, # Max allowed time to execute workflow, in seconds\n",
        "                verbose = True, # Print debug messages\n",
        "                max_iterations=3 # Custom input to workflow\n",
        "                )\n",
        "\n",
        "#Execute the workflow with async\n",
        "result = await workflowobj.run()\n",
        "print(result)"
      ]
    },
    {
      "cell_type": "markdown",
      "source": [
        "Observability"
      ],
      "metadata": {
        "id": "kVyNvrtmftcu"
      },
      "id": "kVyNvrtmftcu"
    },
    {
      "cell_type": "code",
      "execution_count": null,
      "id": "8bd1c587-ac23-4c22-b314-9862cc71570c",
      "metadata": {
        "id": "8bd1c587-ac23-4c22-b314-9862cc71570c"
      },
      "outputs": [],
      "source": [
        "import os\n",
        "from google.colab import userdata\n",
        "import llama_index\n",
        "\n",
        "PHOENIX_API_KEY = userdata.get('PHOENIX_API_KEY')\n",
        "os.environ[\"OTEL_EXPORTER_OTLP_HEADERS\"] = f\"api_key={PHOENIX_API_KEY}\"\n",
        "llama_index.core.set_global_handler(\n",
        "    \"arize_phoenix\", endpoint=\"https://llamatrace.com/v1/traces\"\n",
        ")"
      ]
    }
  ],
  "metadata": {
    "kernelspec": {
      "display_name": "Python 3",
      "language": "python",
      "name": "python3"
    },
    "language_info": {
      "codemirror_mode": {
        "name": "ipython",
        "version": 3
      },
      "file_extension": ".py",
      "mimetype": "text/x-python",
      "name": "python",
      "nbconvert_exporter": "python",
      "pygments_lexer": "ipython3",
      "version": "3.10.12"
    },
    "colab": {
      "provenance": [],
      "include_colab_link": true
    }
  },
  "nbformat": 4,
  "nbformat_minor": 5
}