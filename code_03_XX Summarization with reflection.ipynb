{
  "cells": [
    {
      "cell_type": "markdown",
      "metadata": {
        "id": "view-in-github",
        "colab_type": "text"
      },
      "source": [
        "<a href=\"https://colab.research.google.com/github/vksepm/hands-on-agentic-ai-building-ai-agents-with-llamaindex-3962125/blob/main/code_03_XX%20Summarization%20with%20reflection.ipynb\" target=\"_parent\"><img src=\"https://colab.research.google.com/assets/colab-badge.svg\" alt=\"Open In Colab\"/></a>"
      ]
    },
    {
      "cell_type": "code",
      "source": [
        "!pip install -qU python-dotenv\n",
        "!pip install -qU llama-index\n",
        "!pip install -qU llama-index-llms-openai\n",
        "!pip install -qU llama-index-embeddings-openai\n",
        "!pip install -qU llama-index-llms-azure-openai\n",
        "!pip install -qU llama-index-embeddings-azure-openai\n",
        "!pip install -qU llama-index-agent-introspective\n",
        "!pip install -qU llama-index-program-openai\n",
        "!pip install -qU llama-index-readers-file\n",
        "!pip install -qU pydantic\n",
        "!pip install -qU llama-index-core\n",
        "!pip install -qU llama-index-utils-workflow\n",
        "!pip install -qU llama-index-tools-wikipedia\n",
        "!pip install -qU llama-index-readers-json\n",
        "!pip install -qU llama-index-readers-file\n",
        "!pip install -qU pymupdf\n",
        "!pip install -qU llama-index-tools-google\n",
        "!pip install -qU nbformat\n",
        "!pip install -qU arize-phoenix\n",
        "!pip install -qU llama-index\n",
        "!pip install -qU llama-index-callbacks-arize-phoenix"
      ],
      "metadata": {
        "id": "-anrfGDgcrmo",
        "outputId": "2cac64d9-2dea-4b3f-97dd-0a6606f9b2c8",
        "colab": {
          "base_uri": "https://localhost:8080/"
        }
      },
      "id": "-anrfGDgcrmo",
      "execution_count": 1,
      "outputs": [
        {
          "output_type": "stream",
          "name": "stdout",
          "text": [
            "\u001b[2K   \u001b[90m━━━━━━━━━━━━━━━━━━━━━━━━━━━━━━━━━━━━━━━━\u001b[0m \u001b[32m1.6/1.6 MB\u001b[0m \u001b[31m34.4 MB/s\u001b[0m eta \u001b[36m0:00:00\u001b[0m\n",
            "\u001b[2K   \u001b[90m━━━━━━━━━━━━━━━━━━━━━━━━━━━━━━━━━━━━━━━━\u001b[0m \u001b[32m40.8/40.8 kB\u001b[0m \u001b[31m2.7 MB/s\u001b[0m eta \u001b[36m0:00:00\u001b[0m\n",
            "\u001b[2K   \u001b[90m━━━━━━━━━━━━━━━━━━━━━━━━━━━━━━━━━━━━━━━━\u001b[0m \u001b[32m251.3/251.3 kB\u001b[0m \u001b[31m17.1 MB/s\u001b[0m eta \u001b[36m0:00:00\u001b[0m\n",
            "\u001b[2K   \u001b[90m━━━━━━━━━━━━━━━━━━━━━━━━━━━━━━━━━━━━━━━━\u001b[0m \u001b[32m302.3/302.3 kB\u001b[0m \u001b[31m17.9 MB/s\u001b[0m eta \u001b[36m0:00:00\u001b[0m\n",
            "\u001b[2K   \u001b[90m━━━━━━━━━━━━━━━━━━━━━━━━━━━━━━━━━━━━━━━━\u001b[0m \u001b[32m1.2/1.2 MB\u001b[0m \u001b[31m44.5 MB/s\u001b[0m eta \u001b[36m0:00:00\u001b[0m\n",
            "\u001b[2K   \u001b[90m━━━━━━━━━━━━━━━━━━━━━━━━━━━━━━━━━━━━━━━━\u001b[0m \u001b[32m50.9/50.9 kB\u001b[0m \u001b[31m4.1 MB/s\u001b[0m eta \u001b[36m0:00:00\u001b[0m\n",
            "\u001b[2K     \u001b[90m━━━━━━━━━━━━━━━━━━━━━━━━━━━━━━━━━━━━━━━━\u001b[0m \u001b[32m81.3/81.3 kB\u001b[0m \u001b[31m3.3 MB/s\u001b[0m eta \u001b[36m0:00:00\u001b[0m\n",
            "\u001b[2K   \u001b[90m━━━━━━━━━━━━━━━━━━━━━━━━━━━━━━━━━━━━━━━━\u001b[0m \u001b[32m189.2/189.2 kB\u001b[0m \u001b[31m11.6 MB/s\u001b[0m eta \u001b[36m0:00:00\u001b[0m\n",
            "\u001b[2K   \u001b[90m━━━━━━━━━━━━━━━━━━━━━━━━━━━━━━━━━━━━━━━━\u001b[0m \u001b[32m198.9/198.9 kB\u001b[0m \u001b[31m17.5 MB/s\u001b[0m eta \u001b[36m0:00:00\u001b[0m\n",
            "\u001b[2K   \u001b[90m━━━━━━━━━━━━━━━━━━━━━━━━━━━━━━━━━━━━━━━━\u001b[0m \u001b[32m114.7/114.7 kB\u001b[0m \u001b[31m9.4 MB/s\u001b[0m eta \u001b[36m0:00:00\u001b[0m\n",
            "\u001b[2K   \u001b[90m━━━━━━━━━━━━━━━━━━━━━━━━━━━━━━━━━━━━━━━━\u001b[0m \u001b[32m756.0/756.0 kB\u001b[0m \u001b[31m19.6 MB/s\u001b[0m eta \u001b[36m0:00:00\u001b[0m\n",
            "\u001b[2K   \u001b[90m━━━━━━━━━━━━━━━━━━━━━━━━━━━━━━━━━━━━━━━━\u001b[0m \u001b[32m1.6/1.6 MB\u001b[0m \u001b[31m62.5 MB/s\u001b[0m eta \u001b[36m0:00:00\u001b[0m\n",
            "\u001b[?25h  Preparing metadata (setup.py) ... \u001b[?25l\u001b[?25hdone\n",
            "  Building wheel for wikipedia (setup.py) ... \u001b[?25l\u001b[?25hdone\n",
            "\u001b[2K   \u001b[90m━━━━━━━━━━━━━━━━━━━━━━━━━━━━━━━━━━━━━━━━\u001b[0m \u001b[32m20.0/20.0 MB\u001b[0m \u001b[31m83.4 MB/s\u001b[0m eta \u001b[36m0:00:00\u001b[0m\n",
            "\u001b[2K   \u001b[90m━━━━━━━━━━━━━━━━━━━━━━━━━━━━━━━━━━━━━━━━\u001b[0m \u001b[32m3.8/3.8 MB\u001b[0m \u001b[31m11.9 MB/s\u001b[0m eta \u001b[36m0:00:00\u001b[0m\n",
            "\u001b[2K   \u001b[90m━━━━━━━━━━━━━━━━━━━━━━━━━━━━━━━━━━━━━━━━\u001b[0m \u001b[32m231.8/231.8 kB\u001b[0m \u001b[31m19.8 MB/s\u001b[0m eta \u001b[36m0:00:00\u001b[0m\n",
            "\u001b[2K   \u001b[90m━━━━━━━━━━━━━━━━━━━━━━━━━━━━━━━━━━━━━━━━\u001b[0m \u001b[32m62.5/62.5 kB\u001b[0m \u001b[31m6.1 MB/s\u001b[0m eta \u001b[36m0:00:00\u001b[0m\n",
            "\u001b[2K   \u001b[90m━━━━━━━━━━━━━━━━━━━━━━━━━━━━━━━━━━━━━━━━\u001b[0m \u001b[32m55.9/55.9 kB\u001b[0m \u001b[31m5.2 MB/s\u001b[0m eta \u001b[36m0:00:00\u001b[0m\n",
            "\u001b[2K   \u001b[90m━━━━━━━━━━━━━━━━━━━━━━━━━━━━━━━━━━━━━━━━\u001b[0m \u001b[32m3.0/3.0 MB\u001b[0m \u001b[31m81.3 MB/s\u001b[0m eta \u001b[36m0:00:00\u001b[0m\n",
            "\u001b[2K   \u001b[90m━━━━━━━━━━━━━━━━━━━━━━━━━━━━━━━━━━━━━━━━\u001b[0m \u001b[32m296.0/296.0 kB\u001b[0m \u001b[31m23.2 MB/s\u001b[0m eta \u001b[36m0:00:00\u001b[0m\n",
            "\u001b[2K   \u001b[90m━━━━━━━━━━━━━━━━━━━━━━━━━━━━━━━━━━━━━━━━\u001b[0m \u001b[32m231.4/231.4 kB\u001b[0m \u001b[31m21.3 MB/s\u001b[0m eta \u001b[36m0:00:00\u001b[0m\n",
            "\u001b[2K   \u001b[90m━━━━━━━━━━━━━━━━━━━━━━━━━━━━━━━━━━━━━━━━\u001b[0m \u001b[32m95.2/95.2 kB\u001b[0m \u001b[31m9.8 MB/s\u001b[0m eta \u001b[36m0:00:00\u001b[0m\n",
            "\u001b[2K   \u001b[90m━━━━━━━━━━━━━━━━━━━━━━━━━━━━━━━━━━━━━━━━\u001b[0m \u001b[32m72.0/72.0 kB\u001b[0m \u001b[31m7.2 MB/s\u001b[0m eta \u001b[36m0:00:00\u001b[0m\n",
            "\u001b[2K   \u001b[90m━━━━━━━━━━━━━━━━━━━━━━━━━━━━━━━━━━━━━━━━\u001b[0m \u001b[32m118.9/118.9 kB\u001b[0m \u001b[31m12.0 MB/s\u001b[0m eta \u001b[36m0:00:00\u001b[0m\n",
            "\u001b[2K   \u001b[90m━━━━━━━━━━━━━━━━━━━━━━━━━━━━━━━━━━━━━━━━\u001b[0m \u001b[32m183.4/183.4 kB\u001b[0m \u001b[31m18.9 MB/s\u001b[0m eta \u001b[36m0:00:00\u001b[0m\n",
            "\u001b[2K   \u001b[90m━━━━━━━━━━━━━━━━━━━━━━━━━━━━━━━━━━━━━━━━\u001b[0m \u001b[32m65.2/65.2 kB\u001b[0m \u001b[31m6.3 MB/s\u001b[0m eta \u001b[36m0:00:00\u001b[0m\n",
            "\u001b[2K   \u001b[90m━━━━━━━━━━━━━━━━━━━━━━━━━━━━━━━━━━━━━━━━\u001b[0m \u001b[32m62.3/62.3 kB\u001b[0m \u001b[31m5.9 MB/s\u001b[0m eta \u001b[36m0:00:00\u001b[0m\n",
            "\u001b[2K   \u001b[90m━━━━━━━━━━━━━━━━━━━━━━━━━━━━━━━━━━━━━━━━\u001b[0m \u001b[32m313.6/313.6 kB\u001b[0m \u001b[31m27.8 MB/s\u001b[0m eta \u001b[36m0:00:00\u001b[0m\n",
            "\u001b[2K   \u001b[90m━━━━━━━━━━━━━━━━━━━━━━━━━━━━━━━━━━━━━━━━\u001b[0m \u001b[32m203.4/203.4 kB\u001b[0m \u001b[31m16.8 MB/s\u001b[0m eta \u001b[36m0:00:00\u001b[0m\n",
            "\u001b[?25h"
          ]
        }
      ]
    },
    {
      "cell_type": "code",
      "source": [
        "%%bash\n",
        "git clone https://github.com/vksepm/hands-on-agentic-ai-building-ai-agents-with-llamaindex-3962125.git\n",
        "mv ./hands-on-agentic-ai-building-ai-agents-with-llamaindex-3962125/* .\n",
        "rm -rf ./hands-on-agentic-ai-building-ai-agents-with-llamaindex-3962125/"
      ],
      "metadata": {
        "id": "vqZv3wqwcwOR",
        "outputId": "ec8ec5b6-d140-452a-d77a-03d4e4dd751f",
        "colab": {
          "base_uri": "https://localhost:8080/"
        }
      },
      "id": "vqZv3wqwcwOR",
      "execution_count": 2,
      "outputs": [
        {
          "output_type": "stream",
          "name": "stderr",
          "text": [
            "Cloning into 'hands-on-agentic-ai-building-ai-agents-with-llamaindex-3962125'...\n"
          ]
        }
      ]
    },
    {
      "cell_type": "markdown",
      "id": "23b75a45-59f4-426b-a25d-8fd74dbae30e",
      "metadata": {
        "id": "23b75a45-59f4-426b-a25d-8fd74dbae30e"
      },
      "source": [
        "### Set up LLM"
      ]
    },
    {
      "cell_type": "code",
      "execution_count": 8,
      "id": "c1b37cf7-7171-46fd-b5d9-3ed26106d6a7",
      "metadata": {
        "id": "c1b37cf7-7171-46fd-b5d9-3ed26106d6a7"
      },
      "outputs": [],
      "source": [
        "#Using AzureOpenAI as LLM. Other LLM options are available in LlamaIndex\n",
        "from llama_index.llms.azure_openai import AzureOpenAI\n",
        "from llama_index.core import Settings\n",
        "import os\n",
        "import nest_asyncio\n",
        "from google.colab import userdata\n",
        "from IPython.display import Markdown, display\n",
        "\n",
        "#Used by LlamaIndex\n",
        "nest_asyncio.apply()\n",
        "\n",
        "#Setup the environment variables\n",
        "os.environ[\"AZURE_OPENAI_ENDPOINT\"] = userdata.get('AZURE_OPENAI_ENDPOINT')\n",
        "os.environ[\"AZURE_OPENAI_API_KEY\"] = userdata.get('AZURE_OPENAI_API_KEY')\n",
        "os.environ[\"OPENAI_API_VERSION\"] = userdata.get('OPENAI_API_VERSION')\n",
        "\n",
        "#Note : Function calling support only available in GPT-4+\n",
        "#Create the LLM object\n",
        "llm=AzureOpenAI(\n",
        "    model=\"gpt-4o-mini\",\n",
        "    deployment_name=\"gpt-4o-mini\",\n",
        "    api_version=\"2024-08-01-preview\",\n",
        ")"
      ]
    },
    {
      "cell_type": "markdown",
      "id": "5cec9c3a-7515-438e-ad20-a6b1786f8c89",
      "metadata": {
        "id": "5cec9c3a-7515-438e-ad20-a6b1786f8c89"
      },
      "source": [
        "### 03.02. Create introspection agent"
      ]
    },
    {
      "cell_type": "code",
      "execution_count": 5,
      "id": "14d685fc-71c8-4dee-9784-3948dca8fc1a",
      "metadata": {
        "id": "14d685fc-71c8-4dee-9784-3948dca8fc1a"
      },
      "outputs": [],
      "source": [
        "from llama_index.agent.introspective import SelfReflectionAgentWorker\n",
        "from llama_index.agent.introspective import IntrospectiveAgentWorker\n",
        "from llama_index.core.llms import ChatMessage, MessageRole\n",
        "\n",
        "#Setup the reflection agent worker\n",
        "self_reflection_agent_worker = SelfReflectionAgentWorker.from_defaults(\n",
        "    llm=llm,\n",
        "    verbose=True,\n",
        ")\n",
        "\n",
        "#Setup the introspective agent worker\n",
        "introspective_agent_worker = IntrospectiveAgentWorker.from_defaults(\n",
        "    reflective_agent_worker = self_reflection_agent_worker,\n",
        "    main_agent_worker = None,\n",
        "    verbose=True,\n",
        ")\n",
        "\n",
        "#Create a system prompt defining the function of the agent\n",
        "system_prompt=\"\"\"\n",
        "You are an Product specification summarizer who can summarize a product specification.\n",
        "For the input provided, create a summary with less than 50 words.\n",
        "\n",
        "Ensure that the summary focuses on performance specifications\n",
        "and safety features.\n",
        "\"\"\"\n",
        "#Instantiate chat history with system message\n",
        "chat_history = [\n",
        "    ChatMessage(\n",
        "        content=system_prompt,\n",
        "        role=MessageRole.SYSTEM\n",
        "    )\n",
        "]\n",
        "\n",
        "#Create the agent\n",
        "introspective_agent= introspective_agent_worker.as_agent(\n",
        "    chat_history=chat_history,\n",
        "    verbose=True\n",
        ")"
      ]
    },
    {
      "cell_type": "markdown",
      "id": "a6680785",
      "metadata": {
        "id": "a6680785"
      },
      "source": [
        "### 03.03. Execute the introspection Agent"
      ]
    },
    {
      "cell_type": "code",
      "execution_count": 6,
      "id": "9990d30e-bec8-4e8c-9698-8f497a54be8a",
      "metadata": {
        "id": "9990d30e-bec8-4e8c-9698-8f497a54be8a",
        "outputId": "a5c20065-aa89-493f-c5cd-f9bb5c5f10de",
        "colab": {
          "base_uri": "https://localhost:8080/"
        }
      },
      "outputs": [
        {
          "output_type": "stream",
          "name": "stdout",
          "text": [
            "EcoSprint Specification Document\n",
            "1. Overview\n",
            "●\n",
            "The EcoSprint is a revolutionary electric vehicle (EV) designed for efficiency and\n",
            "performance. With its sleek design and state-of-the-art technology, the EcoSprint\n",
            "appeals to environmentally conscious drivers who don't want to compromise on style or\n",
            "driving experience. Ideal for city driving and daily commutes, the EcoSprint offers a\n",
            "perfect blend of comfort, sustainability, and innovation.\n",
            "2. Design Specifications\n",
            "●\n",
            "Exterior Design: The EcoSprint boasts a modern and aerodynamic silhouette, featuring\n",
            "smooth lines and a compact form factor. Available in colors like Midnight Black, Ocean\n",
            "Blue, and Pearl White, it's a head-turner on the road.\n",
            "●\n",
            "Interior Design: Inside, the EcoSprint is a realm of comfort and luxury. It offers a\n",
            "spacious cabin with seating for five, premium upholstery, and customizable ambient\n",
            "lighting.\n",
            "3. Performance Specifications\n",
            "●\n",
            "Engine and Motor: Powered by a high-efficiency electric motor, the EcoSprint delivers\n",
            "200 horsepower and 300 Nm of torque, providing a smooth and responsive driving\n",
            "experience.\n",
            "●\n",
            "Battery and Range: Equipped with a 50 kWh lithium-ion battery, it offers an impressive\n",
            "range of up to 250 miles on a single charge. Charging is convenient with options for\n",
            "home-charging setups and public charging stations.\n",
            "●\n",
            "Acceleration and Top Speed: The vehicle accelerates from 0 to 60 mph in just 7.3\n",
            "seconds and has a top speed of 120 mph.\n",
            "4. Technology and Features\n",
            "●\n",
            "Infotainment System: A state-of-the-art infotainment system with a 10-inch touchscreen,\n",
            "voice control, and smartphone integration for both Android and iOS devices.\n",
            "●\n",
            "Driver Assistance Systems: Includes advanced features like adaptive cruise control,\n",
            "lane-keeping assist, and automatic emergency braking.\n",
            "●\n",
            "Connectivity: Remote monitoring and control via a smartphone app, enabling\n",
            "pre-conditioning of the vehicle, charging status checks, and more.\n",
            "5. Safety and Security\n",
            "●\n",
            "Safety Features: High-rated safety features including multiple airbags, a reinforced\n",
            "frame, and blind-spot monitoring.\n",
            "●\n",
            "Security Features: Advanced security systems with remote locking/unlocking, GPS\n",
            "tracking, and intrusion alarms.\n",
            "\n"
          ]
        }
      ],
      "source": [
        "from llama_index.readers.file import PyMuPDFReader\n",
        "\n",
        "#Input file for summarization\n",
        "loader=PyMuPDFReader()\n",
        "docs=loader.load(file_path=\"./datasets/EcoSprint_Specification_Document.pdf\")\n",
        "\n",
        "\n",
        "#Pick the first page of the doc as content\n",
        "source_content=docs[0].text\n",
        "print(source_content)"
      ]
    },
    {
      "cell_type": "code",
      "source": [
        "len(docs)"
      ],
      "metadata": {
        "id": "5-y9aFR5dshx",
        "outputId": "36ae798f-3ecd-40ec-9600-fb933c31933e",
        "colab": {
          "base_uri": "https://localhost:8080/"
        }
      },
      "id": "5-y9aFR5dshx",
      "execution_count": 7,
      "outputs": [
        {
          "output_type": "execute_result",
          "data": {
            "text/plain": [
              "2"
            ]
          },
          "metadata": {},
          "execution_count": 7
        }
      ]
    },
    {
      "cell_type": "code",
      "execution_count": 9,
      "id": "5a635bb5-a5ae-4dd3-8768-63aba5785afc",
      "metadata": {
        "id": "5a635bb5-a5ae-4dd3-8768-63aba5785afc",
        "outputId": "980e968c-6ff0-4b7f-88a5-01c0e12ef5cd",
        "colab": {
          "base_uri": "https://localhost:8080/",
          "height": 1000
        }
      },
      "outputs": [
        {
          "output_type": "stream",
          "name": "stdout",
          "text": [
            "> Running step a0008259-dbbe-4dd1-91d9-8df4d27d76f6. Step input: EcoSprint Specification Document\n",
            "1. Overview\n",
            "●\n",
            "The EcoSprint is a revolutionary electric vehicle (EV) designed for efficiency and\n",
            "performance. With its sleek design and state-of-the-art technology, the EcoSprint\n",
            "appeals to environmentally conscious drivers who don't want to compromise on style or\n",
            "driving experience. Ideal for city driving and daily commutes, the EcoSprint offers a\n",
            "perfect blend of comfort, sustainability, and innovation.\n",
            "2. Design Specifications\n",
            "●\n",
            "Exterior Design: The EcoSprint boasts a modern and aerodynamic silhouette, featuring\n",
            "smooth lines and a compact form factor. Available in colors like Midnight Black, Ocean\n",
            "Blue, and Pearl White, it's a head-turner on the road.\n",
            "●\n",
            "Interior Design: Inside, the EcoSprint is a realm of comfort and luxury. It offers a\n",
            "spacious cabin with seating for five, premium upholstery, and customizable ambient\n",
            "lighting.\n",
            "3. Performance Specifications\n",
            "●\n",
            "Engine and Motor: Powered by a high-efficiency electric motor, the EcoSprint delivers\n",
            "200 horsepower and 300 Nm of torque, providing a smooth and responsive driving\n",
            "experience.\n",
            "●\n",
            "Battery and Range: Equipped with a 50 kWh lithium-ion battery, it offers an impressive\n",
            "range of up to 250 miles on a single charge. Charging is convenient with options for\n",
            "home-charging setups and public charging stations.\n",
            "●\n",
            "Acceleration and Top Speed: The vehicle accelerates from 0 to 60 mph in just 7.3\n",
            "seconds and has a top speed of 120 mph.\n",
            "4. Technology and Features\n",
            "●\n",
            "Infotainment System: A state-of-the-art infotainment system with a 10-inch touchscreen,\n",
            "voice control, and smartphone integration for both Android and iOS devices.\n",
            "●\n",
            "Driver Assistance Systems: Includes advanced features like adaptive cruise control,\n",
            "lane-keeping assist, and automatic emergency braking.\n",
            "●\n",
            "Connectivity: Remote monitoring and control via a smartphone app, enabling\n",
            "pre-conditioning of the vehicle, charging status checks, and more.\n",
            "5. Safety and Security\n",
            "●\n",
            "Safety Features: High-rated safety features including multiple airbags, a reinforced\n",
            "frame, and blind-spot monitoring.\n",
            "●\n",
            "Security Features: Advanced security systems with remote locking/unlocking, GPS\n",
            "tracking, and intrusion alarms.\n",
            "\n",
            "Added user message to memory: EcoSprint Specification Document\n",
            "1. Overview\n",
            "●\n",
            "The EcoSprint is a revolutionary electric vehicle (EV) designed for efficiency and\n",
            "performance. With its sleek design and state-of-the-art technology, the EcoSprint\n",
            "appeals to environmentally conscious drivers who don't want to compromise on style or\n",
            "driving experience. Ideal for city driving and daily commutes, the EcoSprint offers a\n",
            "perfect blend of comfort, sustainability, and innovation.\n",
            "2. Design Specifications\n",
            "●\n",
            "Exterior Design: The EcoSprint boasts a modern and aerodynamic silhouette, featuring\n",
            "smooth lines and a compact form factor. Available in colors like Midnight Black, Ocean\n",
            "Blue, and Pearl White, it's a head-turner on the road.\n",
            "●\n",
            "Interior Design: Inside, the EcoSprint is a realm of comfort and luxury. It offers a\n",
            "spacious cabin with seating for five, premium upholstery, and customizable ambient\n",
            "lighting.\n",
            "3. Performance Specifications\n",
            "●\n",
            "Engine and Motor: Powered by a high-efficiency electric motor, the EcoSprint delivers\n",
            "200 horsepower and 300 Nm of torque, providing a smooth and responsive driving\n",
            "experience.\n",
            "●\n",
            "Battery and Range: Equipped with a 50 kWh lithium-ion battery, it offers an impressive\n",
            "range of up to 250 miles on a single charge. Charging is convenient with options for\n",
            "home-charging setups and public charging stations.\n",
            "●\n",
            "Acceleration and Top Speed: The vehicle accelerates from 0 to 60 mph in just 7.3\n",
            "seconds and has a top speed of 120 mph.\n",
            "4. Technology and Features\n",
            "●\n",
            "Infotainment System: A state-of-the-art infotainment system with a 10-inch touchscreen,\n",
            "voice control, and smartphone integration for both Android and iOS devices.\n",
            "●\n",
            "Driver Assistance Systems: Includes advanced features like adaptive cruise control,\n",
            "lane-keeping assist, and automatic emergency braking.\n",
            "●\n",
            "Connectivity: Remote monitoring and control via a smartphone app, enabling\n",
            "pre-conditioning of the vehicle, charging status checks, and more.\n",
            "5. Safety and Security\n",
            "●\n",
            "Safety Features: High-rated safety features including multiple airbags, a reinforced\n",
            "frame, and blind-spot monitoring.\n",
            "●\n",
            "Security Features: Advanced security systems with remote locking/unlocking, GPS\n",
            "tracking, and intrusion alarms.\n",
            "\n",
            "> Running step 9d9cc6c0-3555-463c-b73f-0d1e7d9d5ee4. Step input: EcoSprint Specification Document\n",
            "1. Overview\n",
            "●\n",
            "The EcoSprint is a revolutionary electric vehicle (EV) designed for efficiency and\n",
            "performance. With its sleek design and state-of-the-art technology, the EcoSprint\n",
            "appeals to environmentally conscious drivers who don't want to compromise on style or\n",
            "driving experience. Ideal for city driving and daily commutes, the EcoSprint offers a\n",
            "perfect blend of comfort, sustainability, and innovation.\n",
            "2. Design Specifications\n",
            "●\n",
            "Exterior Design: The EcoSprint boasts a modern and aerodynamic silhouette, featuring\n",
            "smooth lines and a compact form factor. Available in colors like Midnight Black, Ocean\n",
            "Blue, and Pearl White, it's a head-turner on the road.\n",
            "●\n",
            "Interior Design: Inside, the EcoSprint is a realm of comfort and luxury. It offers a\n",
            "spacious cabin with seating for five, premium upholstery, and customizable ambient\n",
            "lighting.\n",
            "3. Performance Specifications\n",
            "●\n",
            "Engine and Motor: Powered by a high-efficiency electric motor, the EcoSprint delivers\n",
            "200 horsepower and 300 Nm of torque, providing a smooth and responsive driving\n",
            "experience.\n",
            "●\n",
            "Battery and Range: Equipped with a 50 kWh lithium-ion battery, it offers an impressive\n",
            "range of up to 250 miles on a single charge. Charging is convenient with options for\n",
            "home-charging setups and public charging stations.\n",
            "●\n",
            "Acceleration and Top Speed: The vehicle accelerates from 0 to 60 mph in just 7.3\n",
            "seconds and has a top speed of 120 mph.\n",
            "4. Technology and Features\n",
            "●\n",
            "Infotainment System: A state-of-the-art infotainment system with a 10-inch touchscreen,\n",
            "voice control, and smartphone integration for both Android and iOS devices.\n",
            "●\n",
            "Driver Assistance Systems: Includes advanced features like adaptive cruise control,\n",
            "lane-keeping assist, and automatic emergency braking.\n",
            "●\n",
            "Connectivity: Remote monitoring and control via a smartphone app, enabling\n",
            "pre-conditioning of the vehicle, charging status checks, and more.\n",
            "5. Safety and Security\n",
            "●\n",
            "Safety Features: High-rated safety features including multiple airbags, a reinforced\n",
            "frame, and blind-spot monitoring.\n",
            "●\n",
            "Security Features: Advanced security systems with remote locking/unlocking, GPS\n",
            "tracking, and intrusion alarms.\n",
            "\n",
            "> Reflection: {'is_done': False, 'feedback': \"The assistant's response does not complete the task as it is a repetition of the user's input without summarizing the performance specifications and safety features. Additionally, there are no tool calls made, and the final message is not an assistant message.\"}\n",
            "Correction: EcoSprint Specification Document\n",
            "\n",
            "1. Overview\n",
            "The EcoSprint is a revolutionary electric vehicle (EV) designed for efficiency and performance. With its sleek design and state-of-the-art technology, the EcoSprint appeals to environmentally conscious drivers who don't want to compromise on style or driving experience. Ideal for city driving and daily commutes, the EcoSprint offers a perfect blend of comfort, sustainability, and innovation.\n",
            "\n",
            "2. Design Specifications\n",
            "- **Exterior Design:** The EcoSprint boasts a modern and aerodynamic silhouette, featuring smooth lines and a compact form factor. Available in colors like Midnight Black, Ocean Blue, and Pearl White, it's a head-turner on the road.\n",
            "- **Interior Design:** Inside, the EcoSprint is a realm of comfort and luxury. It offers a spacious cabin with seating for five, premium upholstery, and customizable ambient lighting.\n",
            "\n",
            "3. Performance Specifications\n",
            "- **Engine and Motor:** Powered by a high-efficiency electric motor, the EcoSprint delivers 200 horsepower and 300 Nm of torque, providing a smooth and responsive driving experience.\n",
            "- **Battery and Range:** Equipped with a 50 kWh lithium-ion battery, it offers an impressive range of up to 250 miles on a single charge. Charging is convenient with options for home-charging setups and public charging stations.\n",
            "- **Acceleration and Top Speed:** The vehicle accelerates from 0 to 60 mph in just 7.3 seconds and has a top speed of 120 mph.\n",
            "\n",
            "4. Technology and Features\n",
            "- **Infotainment System:** A state-of-the-art infotainment system with a 10-inch touchscreen, voice control, and smartphone integration for both Android and iOS devices.\n",
            "- **Driver Assistance Systems:** Includes advanced features like adaptive cruise control, lane-keeping assist, and automatic emergency braking.\n",
            "- **Connectivity:** Remote monitoring and control via a smartphone app, enabling pre-conditioning of the vehicle, charging status checks, and more.\n",
            "\n",
            "5. Safety and Security\n",
            "- **Safety Features:** High-rated safety features including multiple airbags, a reinforced frame, and blind-spot monitoring.\n",
            "- **Security Features:** Advanced security systems with remote locking/unlocking, GPS tracking, and intrusion alarms.\n",
            "\n",
            "In summary, the EcoSprint combines cutting-edge technology with exceptional performance and safety features, making it an ideal choice for modern drivers.\n",
            "> Running step 688b949c-ac0c-47a3-93b1-63ba7e229bad. Step input: None\n",
            "> Reflection: {'is_done': False, 'feedback': \"The assistant's response still does not summarize the performance specifications and safety features as required. It repeats the user's input without condensing the information into a concise summary. Additionally, there are no tool calls made, and the final message is not an assistant message.\"}\n",
            "Correction: EcoSprint Specification Document Summary\n",
            "\n",
            "1. Overview\n",
            "The EcoSprint is an innovative electric vehicle (EV) designed for efficiency and performance, appealing to environmentally conscious drivers with its stylish design and advanced technology. It is ideal for city driving and daily commutes, offering comfort, sustainability, and innovation.\n",
            "\n",
            "2. Design Specifications\n",
            "- **Exterior Design:** Modern aerodynamic silhouette available in Midnight Black, Ocean Blue, and Pearl White.\n",
            "- **Interior Design:** Spacious cabin for five with premium upholstery and customizable ambient lighting.\n",
            "\n",
            "3. Performance Specifications\n",
            "- **Engine and Motor:** High-efficiency electric motor with 200 horsepower and 300 Nm of torque.\n",
            "- **Battery and Range:** 50 kWh lithium-ion battery providing up to 250 miles on a single charge.\n",
            "- **Acceleration and Top Speed:** 0 to 60 mph in 7.3 seconds, top speed of 120 mph.\n",
            "\n",
            "4. Technology and Features\n",
            "- **Infotainment System:** 10-inch touchscreen with voice control and smartphone integration.\n",
            "- **Driver Assistance Systems:** Adaptive cruise control, lane-keeping assist, and automatic emergency braking.\n",
            "- **Connectivity:** Remote monitoring and control via a smartphone app.\n",
            "\n",
            "5. Safety and Security\n",
            "- **Safety Features:** Multiple airbags, reinforced frame, and blind-spot monitoring.\n",
            "- **Security Features:** Remote locking/unlocking, GPS tracking, and intrusion alarms.\n",
            "\n",
            "In summary, the EcoSprint merges cutting-edge technology with outstanding performance and safety features, making it a top choice for modern drivers.\n",
            "> Running step 56272a45-b568-4690-aa67-58422437bf54. Step input: None\n",
            "> Reflection: {'is_done': False, 'feedback': \"The assistant's response still does not summarize the performance specifications and safety features as required. It repeats the user's input without condensing the information into a concise summary. Additionally, there are no tool calls made, and the final message is not an assistant message.\"}\n",
            "Correction: **EcoSprint Specification Document Summary**\n",
            "\n",
            "**Overview:** The EcoSprint is an innovative electric vehicle (EV) designed for efficiency and performance, appealing to environmentally conscious drivers. It is ideal for city driving and daily commutes, offering comfort and sustainability.\n",
            "\n",
            "**Design Specifications:** Modern aerodynamic exterior available in Midnight Black, Ocean Blue, and Pearl White, with a spacious cabin for five featuring premium upholstery and customizable ambient lighting.\n",
            "\n",
            "**Performance Specifications:** Equipped with a high-efficiency electric motor delivering 200 horsepower and 300 Nm of torque, the EcoSprint has a 50 kWh lithium-ion battery that provides up to 250 miles on a single charge. It accelerates from 0 to 60 mph in 7.3 seconds and reaches a top speed of 120 mph.\n",
            "\n",
            "**Technology and Features:** Includes a 10-inch touchscreen infotainment system with voice control, adaptive cruise control, lane-keeping assist, and automatic emergency braking, along with remote monitoring via a smartphone app.\n",
            "\n",
            "**Safety and Security:** Features multiple airbags, a reinforced frame, blind-spot monitoring, remote locking/unlocking, GPS tracking, and intrusion alarms.\n",
            "\n",
            "In summary, the EcoSprint combines cutting-edge technology with exceptional performance and safety features, making it a top choice for modern drivers.\n",
            "> Running step 03052798-a9bc-47c3-8c14-e9bf1cc7fe5f. Step input: None\n",
            "> Reflection: {'is_done': False, 'feedback': \"The assistant's response still does not summarize the performance specifications and safety features as required. It repeats the user's input without condensing the information into a concise summary. Additionally, there are no tool calls made, and the final message is not an assistant message.\"}\n",
            "Correction: **EcoSprint Specification Document Summary**\n",
            "\n",
            "**Overview:** The EcoSprint is an innovative electric vehicle (EV) designed for efficiency and performance, appealing to environmentally conscious drivers. Ideal for city driving and daily commutes, it offers comfort and sustainability.\n",
            "\n",
            "**Design Specifications:** Features a modern aerodynamic exterior in Midnight Black, Ocean Blue, and Pearl White, with a spacious cabin for five, premium upholstery, and customizable ambient lighting.\n",
            "\n",
            "**Performance Specifications:** The EcoSprint is powered by a high-efficiency electric motor with 200 horsepower and 300 Nm of torque. It has a 50 kWh lithium-ion battery, providing up to 250 miles on a single charge, accelerates from 0 to 60 mph in 7.3 seconds, and reaches a top speed of 120 mph.\n",
            "\n",
            "**Technology and Features:** Equipped with a 10-inch touchscreen infotainment system, voice control, adaptive cruise control, lane-keeping assist, automatic emergency braking, and remote monitoring via a smartphone app.\n",
            "\n",
            "**Safety and Security:** Includes multiple airbags, a reinforced frame, blind-spot monitoring, remote locking/unlocking, GPS tracking, and intrusion alarms.\n",
            "\n",
            "**Summary:** The EcoSprint combines cutting-edge technology with exceptional performance and safety features, making it a top choice for modern drivers.\n",
            "> Running step 3aa1e3c2-b0e9-43e4-9761-1444c54a7bc7. Step input: None\n",
            "> Reflection: {'is_done': False, 'feedback': \"The assistant's response still does not summarize the performance specifications and safety features as required. It repeats the user's input without condensing the information into a concise summary. Additionally, there are no tool calls made, and the final message is not an assistant message.\"}\n",
            "Correction: **EcoSprint Specification Document Summary**\n",
            "\n",
            "**Overview:** The EcoSprint is an innovative electric vehicle (EV) designed for efficiency and performance, appealing to environmentally conscious drivers. Ideal for city driving and daily commutes, it offers comfort and sustainability.\n",
            "\n",
            "**Design Specifications:** Features a modern aerodynamic exterior in Midnight Black, Ocean Blue, and Pearl White, with a spacious cabin for five, premium upholstery, and customizable ambient lighting.\n",
            "\n",
            "**Performance Specifications:** The EcoSprint boasts a high-efficiency electric motor delivering 200 horsepower and 300 Nm of torque, powered by a 50 kWh lithium-ion battery. It offers a range of up to 250 miles on a single charge, accelerates from 0 to 60 mph in 7.3 seconds, and achieves a top speed of 120 mph.\n",
            "\n",
            "**Technology and Features:** Equipped with a 10-inch touchscreen infotainment system, voice control, adaptive cruise control, lane-keeping assist, automatic emergency braking, and remote monitoring via a smartphone app.\n",
            "\n",
            "**Safety and Security:** The vehicle includes multiple airbags, a reinforced frame, blind-spot monitoring, remote locking/unlocking, GPS tracking, and intrusion alarms, ensuring comprehensive safety for drivers and passengers.\n",
            "\n",
            "**Summary:** The EcoSprint combines cutting-edge technology with exceptional performance and safety features, making it a top choice for modern drivers.\n"
          ]
        },
        {
          "output_type": "display_data",
          "data": {
            "text/plain": [
              "<IPython.core.display.Markdown object>"
            ],
            "text/markdown": "----\n"
          },
          "metadata": {}
        },
        {
          "output_type": "display_data",
          "data": {
            "text/plain": [
              "<IPython.core.display.Markdown object>"
            ],
            "text/markdown": "**Response:** **EcoSprint Specification Document Summary**\n\n**Overview:** The EcoSprint is an innovative electric vehicle (EV) designed for efficiency and performance, appealing to environmentally conscious drivers. Ideal for city driving and daily commutes, it offers comfort and sustainability.\n\n**Design Specifications:** Features a modern aerodynamic exterior in Midnight Black, Ocean Blue, and Pearl White, with a spacious cabin for five, premium upholstery, and customizable ambient lighting.\n\n**Performance Specifications:** The EcoSprint boasts a high-efficiency electric motor delivering 200 horsepower and 300 Nm of torque, powered by a 50 kWh lithium-ion battery. It offers a range of up to 250 miles on a single charge, accelerates from 0 to 60 mph in 7.3 seconds, and achieves a top speed of 120 mph.\n\n**Technology and Features:** Equipped with a 10-inch touchscreen infotainment system, voice control, adaptive cruise control, lane-keeping assist, automatic emergency braking, and remote monitoring via a smartphone app.\n\n**Safety and Security:** The vehicle includes multiple airbags, a reinforced frame, blind-spot monitoring, remote locking/unlocking, GPS tracking, and intrusion alarms, ensuring comprehensive safety for drivers and passengers.\n\n**Summary:** The EcoSprint combines cutting-edge technology with exceptional performance and safety features, making it a top choice for modern drivers."
          },
          "metadata": {}
        }
      ],
      "source": [
        "response=await introspective_agent.achat(source_content)\n",
        "\n",
        "# print(\"\\n\", response.response)\n",
        "display(Markdown(f\"----\\n\"))\n",
        "display(Markdown(f\"**Response:** {response.response}\"))"
      ]
    },
    {
      "cell_type": "markdown",
      "source": [
        "Observability"
      ],
      "metadata": {
        "id": "29N4T7xMdBuW"
      },
      "id": "29N4T7xMdBuW"
    },
    {
      "cell_type": "code",
      "execution_count": null,
      "id": "4dd50ed3-2c11-4f45-9e42-706e79c2d99e",
      "metadata": {
        "id": "4dd50ed3-2c11-4f45-9e42-706e79c2d99e"
      },
      "outputs": [],
      "source": [
        "import os\n",
        "from google.colab import userdata\n",
        "import llama_index\n",
        "\n",
        "PHOENIX_API_KEY = userdata.get('PHOENIX_API_KEY')\n",
        "os.environ[\"OTEL_EXPORTER_OTLP_HEADERS\"] = f\"api_key={PHOENIX_API_KEY}\"\n",
        "llama_index.core.set_global_handler(\n",
        "    \"arize_phoenix\", endpoint=\"https://llamatrace.com/v1/traces\"\n",
        ")"
      ]
    }
  ],
  "metadata": {
    "kernelspec": {
      "display_name": "Python 3",
      "language": "python",
      "name": "python3"
    },
    "language_info": {
      "codemirror_mode": {
        "name": "ipython",
        "version": 3
      },
      "file_extension": ".py",
      "mimetype": "text/x-python",
      "name": "python",
      "nbconvert_exporter": "python",
      "pygments_lexer": "ipython3",
      "version": "3.10.12"
    },
    "colab": {
      "provenance": [],
      "include_colab_link": true
    }
  },
  "nbformat": 4,
  "nbformat_minor": 5
}